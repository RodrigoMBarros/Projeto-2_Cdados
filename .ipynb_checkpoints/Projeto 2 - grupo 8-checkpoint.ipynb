{
 "cells": [
  {
   "cell_type": "markdown",
   "metadata": {},
   "source": [
    "# Projeto 2 - Ciência dos Dados 2020.2"
   ]
  },
  {
   "cell_type": "markdown",
   "metadata": {},
   "source": [
    "**Participantes**\n",
    "\n",
    "- Enrico Lopez Borges de Carvalho\n",
    "\n",
    "- Luana Mitsudo Coelho\n",
    "\n",
    "- Luiza Valezim Augusto Pinto\n",
    "\n",
    "- Rodrigo Carvalho Monteiro de Barros"
   ]
  },
  {
   "cell_type": "markdown",
   "metadata": {},
   "source": [
    "## Introdução\n",
    "\n",
    "Esse Projeto tem como objetivo tentar prever a nota que diversos jogos receberiam no site *Metacritic*, um site de avaliação de jogos. Para isso, foram levadas em consideração suas características principais (como seu preço, seu gênero, entre outros), informações obtidas em um datasheet do site *Kaggle* em forma de Excel. <br>\n",
    "Foram selecionadas somente àquelas colunas de características que interessavam para o resultado da previsão.  <br>\n",
    "O método utilizado foi **INSERIR O NOME DO MÉTODO QUE IREMOS UTILIZAR**, o qual (...)"
   ]
  },
  {
   "cell_type": "markdown",
   "metadata": {},
   "source": [
    "## Desenvolvimento"
   ]
  },
  {
   "cell_type": "markdown",
   "metadata": {},
   "source": [
    "**Carregando as bibliotecas**"
   ]
  },
  {
   "cell_type": "code",
   "execution_count": 1,
   "metadata": {},
   "outputs": [],
   "source": [
    "%matplotlib inline\n",
    "\n",
    "import pandas as pd\n",
    "import matplotlib.pyplot as plt\n",
    "import numpy as np\n",
    "import os\n",
    "\n",
    "from IPython.display import display"
   ]
  },
  {
   "cell_type": "markdown",
   "metadata": {},
   "source": [
    "**Carregando a base de dados dos jogos**"
   ]
  },
  {
   "cell_type": "code",
   "execution_count": 2,
   "metadata": {},
   "outputs": [
    {
     "name": "stdout",
     "output_type": "stream",
     "text": [
      "Encontrei o arquivo jogos.xlsx, tudo certo para prosseguir com o projeto!\n"
     ]
    }
   ],
   "source": [
    "filename = 'jogos.xlsx'\n",
    "if filename in os.listdir():\n",
    "    print(f'Encontrei o arquivo {filename}, tudo certo para prosseguir com o projeto!')\n",
    "else:\n",
    "    print(f'Não encontrei o arquivo {filename} aqui no diretório {os.getcwd()} :(')"
   ]
  },
  {
   "cell_type": "markdown",
   "metadata": {},
   "source": [
    "**Lendo os arquivos de treinamento e de teste**"
   ]
  },
  {
   "cell_type": "code",
   "execution_count": 124,
   "metadata": {
    "scrolled": false
   },
   "outputs": [
    {
     "name": "stderr",
     "output_type": "stream",
     "text": [
      "C:\\Users\\rodri\\Anaconda3\\lib\\site-packages\\ipykernel_launcher.py:14: SettingWithCopyWarning: \n",
      "A value is trying to be set on a copy of a slice from a DataFrame\n",
      "\n",
      "See the caveats in the documentation: https://pandas.pydata.org/pandas-docs/stable/user_guide/indexing.html#returning-a-view-versus-a-copy\n",
      "  \n"
     ]
    },
    {
     "data": {
      "text/html": [
       "<div>\n",
       "<style scoped>\n",
       "    .dataframe tbody tr th:only-of-type {\n",
       "        vertical-align: middle;\n",
       "    }\n",
       "\n",
       "    .dataframe tbody tr th {\n",
       "        vertical-align: top;\n",
       "    }\n",
       "\n",
       "    .dataframe thead th {\n",
       "        text-align: right;\n",
       "    }\n",
       "</style>\n",
       "<table border=\"1\" class=\"dataframe\">\n",
       "  <thead>\n",
       "    <tr style=\"text-align: right;\">\n",
       "      <th></th>\n",
       "      <th>Name</th>\n",
       "      <th>Metacritic</th>\n",
       "      <th>Genres</th>\n",
       "      <th>Indie</th>\n",
       "      <th>Presence</th>\n",
       "      <th>Platform</th>\n",
       "      <th>OriginalCost</th>\n",
       "      <th>Players</th>\n",
       "      <th>Languages</th>\n",
       "      <th>Achievements</th>\n",
       "      <th>Multiplayer</th>\n",
       "      <th>PVP</th>\n",
       "      <th>Coop</th>\n",
       "      <th>Online Coop</th>\n",
       "      <th>Singleplayer</th>\n",
       "    </tr>\n",
       "  </thead>\n",
       "  <tbody>\n",
       "    <tr>\n",
       "      <th>0</th>\n",
       "      <td>Counter-Strike: Global Offensive</td>\n",
       "      <td>830</td>\n",
       "      <td>Action, Free to Play</td>\n",
       "      <td>nao</td>\n",
       "      <td>10095880</td>\n",
       "      <td>PC, Xbox 360, PlayStation 3</td>\n",
       "      <td>0.00</td>\n",
       "      <td>multiplayer, pvp, coop, online coop</td>\n",
       "      <td>23</td>\n",
       "      <td>1790</td>\n",
       "      <td>True</td>\n",
       "      <td>True</td>\n",
       "      <td>True</td>\n",
       "      <td>True</td>\n",
       "      <td>NaN</td>\n",
       "    </tr>\n",
       "    <tr>\n",
       "      <th>1</th>\n",
       "      <td>Destiny 2</td>\n",
       "      <td>820</td>\n",
       "      <td>Action, Adventure, Free to Play</td>\n",
       "      <td>nao</td>\n",
       "      <td>10074250</td>\n",
       "      <td>PlayStation 5, Web, Xbox Series X, PC, Xbox One, PlayStation 4</td>\n",
       "      <td>0.00</td>\n",
       "      <td>multiplayer, coop, online coop</td>\n",
       "      <td>8</td>\n",
       "      <td>610</td>\n",
       "      <td>True</td>\n",
       "      <td>NaN</td>\n",
       "      <td>True</td>\n",
       "      <td>True</td>\n",
       "      <td>NaN</td>\n",
       "    </tr>\n",
       "    <tr>\n",
       "      <th>2</th>\n",
       "      <td>The Elder Scrolls Online</td>\n",
       "      <td>710</td>\n",
       "      <td>Massively Multiplayer, RPG</td>\n",
       "      <td>nao</td>\n",
       "      <td>10007810</td>\n",
       "      <td>PC</td>\n",
       "      <td>19.99</td>\n",
       "      <td>singleplayer, multiplayer, coop</td>\n",
       "      <td>4</td>\n",
       "      <td>0</td>\n",
       "      <td>True</td>\n",
       "      <td>NaN</td>\n",
       "      <td>True</td>\n",
       "      <td>NaN</td>\n",
       "      <td>True</td>\n",
       "    </tr>\n",
       "    <tr>\n",
       "      <th>3</th>\n",
       "      <td>Sea of Thieves</td>\n",
       "      <td>680</td>\n",
       "      <td>Action, Adventure</td>\n",
       "      <td>nao</td>\n",
       "      <td>7774560</td>\n",
       "      <td>PC, Xbox One</td>\n",
       "      <td>39.99</td>\n",
       "      <td>multiplayer, pvp, coop, online coop</td>\n",
       "      <td>5</td>\n",
       "      <td>3080</td>\n",
       "      <td>True</td>\n",
       "      <td>True</td>\n",
       "      <td>True</td>\n",
       "      <td>True</td>\n",
       "      <td>NaN</td>\n",
       "    </tr>\n",
       "    <tr>\n",
       "      <th>4</th>\n",
       "      <td>Tom Clancy's Rainbow Six Siege</td>\n",
       "      <td>750</td>\n",
       "      <td>Action</td>\n",
       "      <td>nao</td>\n",
       "      <td>10014240</td>\n",
       "      <td>PlayStation 4, PC, Xbox One</td>\n",
       "      <td>19.99</td>\n",
       "      <td>singleplayer, multiplayer, coop, online coop</td>\n",
       "      <td>12</td>\n",
       "      <td>820</td>\n",
       "      <td>True</td>\n",
       "      <td>NaN</td>\n",
       "      <td>True</td>\n",
       "      <td>True</td>\n",
       "      <td>True</td>\n",
       "    </tr>\n",
       "  </tbody>\n",
       "</table>\n",
       "</div>"
      ],
      "text/plain": [
       "                               Name  Metacritic  \\\n",
       "0  Counter-Strike: Global Offensive         830   \n",
       "1                         Destiny 2         820   \n",
       "2          The Elder Scrolls Online         710   \n",
       "3                    Sea of Thieves         680   \n",
       "4    Tom Clancy's Rainbow Six Siege         750   \n",
       "\n",
       "                            Genres Indie  Presence  \\\n",
       "0             Action, Free to Play   nao  10095880   \n",
       "1  Action, Adventure, Free to Play   nao  10074250   \n",
       "2       Massively Multiplayer, RPG   nao  10007810   \n",
       "3                Action, Adventure   nao   7774560   \n",
       "4                           Action   nao  10014240   \n",
       "\n",
       "                                                         Platform  \\\n",
       "0                                     PC, Xbox 360, PlayStation 3   \n",
       "1  PlayStation 5, Web, Xbox Series X, PC, Xbox One, PlayStation 4   \n",
       "2                                                              PC   \n",
       "3                                                    PC, Xbox One   \n",
       "4                                     PlayStation 4, PC, Xbox One   \n",
       "\n",
       "   OriginalCost                                       Players  Languages  \\\n",
       "0          0.00           multiplayer, pvp, coop, online coop         23   \n",
       "1          0.00                multiplayer, coop, online coop          8   \n",
       "2         19.99               singleplayer, multiplayer, coop          4   \n",
       "3         39.99           multiplayer, pvp, coop, online coop          5   \n",
       "4         19.99  singleplayer, multiplayer, coop, online coop         12   \n",
       "\n",
       "   Achievements Multiplayer   PVP  Coop Online Coop Singleplayer  \n",
       "0          1790        True  True  True        True          NaN  \n",
       "1           610        True   NaN  True        True          NaN  \n",
       "2             0        True   NaN  True         NaN         True  \n",
       "3          3080        True  True  True        True          NaN  \n",
       "4           820        True   NaN  True        True         True  "
      ]
     },
     "execution_count": 124,
     "metadata": {},
     "output_type": "execute_result"
    }
   ],
   "source": [
    "#cria um dataframe de treinamento e um de teste a partir do documento excel.\n",
    "jogos_Train = pd.read_excel(filename, sheet_name = 'train')\n",
    "jogos_Test =pd.read_excel(filename,sheet_name = 'test')\n",
    "\n",
    "#O codigo não le o dataframe inteiro a menos que ele esteja esposto, se não ele le apenas o \"resumo\" que aparece no 'print'.\n",
    "#Estas funções fazem com que o conteúdo por inteiro seja exposto. \n",
    "pd.set_option('display.max_rows', None)\n",
    "pd.set_option('display.max_colwidth', None)\n",
    "\n",
    "#transforma a coluna \"Laguages\" de uma lista de linguas para uma quantidade de linguas disponiveis\n",
    "for L in range(len(jogos_Train.Languages)):\n",
    "    lista_linguas = str(jogos_Train.Languages[L]).split(\",\")\n",
    "    quantidade = len(lista_linguas)\n",
    "    jogos_Train.Languages[L] = quantidade\n",
    "\n",
    "#criando categorias e organizando os dados de treinamento.\n",
    "jogos_Train.Indie = jogos_Train.Indie.astype('category')\n",
    "jogos_Train.Indie.cat.categories = [\"nao\",\"sim\"]\n",
    "jogos_Train.Platform = jogos_Train.Platform.astype(\"str\")\n",
    "jogos_Train.Genres = jogos_Train.Genres.astype(\"str\")\n",
    "jogos_Train.Languages = jogos_Train.Languages.astype(\"int64\")\n",
    "\n",
    "#Separando o conteudo da coluna \"Players\" em distintas colunas boleanas.\n",
    "jogos_Train.loc[filtrom,\"Multiplayer\"]= jogos_Train.Players.str.contains(\"multiplayer\")\n",
    "jogos_Train.loc[filtropv,\"PVP\"]= jogos_Train.Players.str.contains(\"pvp\")\n",
    "jogos_Train.loc[filtroco,\"Coop\"]= jogos_Train.Players.str.contains(\"coop\")\n",
    "jogos_Train.loc[filtroc,\"Online Coop\"]= jogos_Train.Players.str.contains(\"online coop\")\n",
    "jogos_Train.loc[filtrosi,\"Singleplayer\"]= jogos_Train.Players.str.contains(\"singleplayer\")\n",
    "\n",
    "jogos_Train.head(5)"
   ]
  },
  {
   "cell_type": "code",
   "execution_count": 50,
   "metadata": {
    "scrolled": false
   },
   "outputs": [],
   "source": [
    "#jogos_Test.head(5)"
   ]
  },
  {
   "cell_type": "markdown",
   "metadata": {},
   "source": [
    "### Descrição das variaveis da tabela final:\n",
    " \n",
    " **(precisamos fazer isso aqui!)**"
   ]
  },
  {
   "cell_type": "markdown",
   "metadata": {},
   "source": [
    "### Gráficos"
   ]
  },
  {
   "cell_type": "markdown",
   "metadata": {},
   "source": [
    "**Quantidade por faixa de preço**"
   ]
  },
  {
   "cell_type": "code",
   "execution_count": 51,
   "metadata": {},
   "outputs": [
    {
     "data": {
      "text/plain": [
       "Text(0.5, 1.0, 'Quantidade de jogos por preço do jogo na data de lançamento ')"
      ]
     },
     "execution_count": 51,
     "metadata": {},
     "output_type": "execute_result"
    },
    {
     "data": {
      "image/png": "[encoded data removed]",
      "text/plain": [
       "<Figure size 1296x360 with 1 Axes>"
      ]
     },
     "metadata": {
      "needs_background": "light"
     },
     "output_type": "display_data"
    }
   ],
   "source": [
    "preco_inicial=jogos_Train.OriginalCost\n",
    "\n",
    "faixas = np.arange(0,65,5)\n",
    "\n",
    "plt.figure(figsize=(18, 5))\n",
    "\n",
    "plt.subplot(121)\n",
    "plt.hist(preco_inicial, bins=faixas,color='blue', edgecolor='white')\n",
    "plt.ylabel('quantidade')\n",
    "plt.xlabel('preços')\n",
    "plt.title('Quantidade de jogos por preço do jogo na data de lançamento ')"
   ]
  },
  {
   "cell_type": "markdown",
   "metadata": {},
   "source": [
    "**Quantidade por classificação se é indie ou não**"
   ]
  },
  {
   "cell_type": "code",
   "execution_count": 52,
   "metadata": {},
   "outputs": [
    {
     "data": {
      "text/plain": [
       "Text(0.5, 1.0, 'Quantidade de jogos por classificação se é indie ou não')"
      ]
     },
     "execution_count": 52,
     "metadata": {},
     "output_type": "execute_result"
    },
    {
     "data": {
      "image/png": "[encoded data removed]",
      "text/plain": [
       "<Figure size 360x288 with 1 Axes>"
      ]
     },
     "metadata": {
      "needs_background": "light"
     },
     "output_type": "display_data"
    }
   ],
   "source": [
    "jogos_indie =jogos_Train.Indie\n",
    "\n",
    "plt.figure(figsize=(5, 4))\n",
    "\n",
    "plt.hist(jogos_indie,color='blue', edgecolor='white')\n",
    "plt.ylabel('quantidade')\n",
    "plt.xlabel('sim ou não')\n",
    "plt.title('Quantidade de jogos por classificação se é indie ou não')"
   ]
  },
  {
   "cell_type": "markdown",
   "metadata": {},
   "source": [
    "**Quantidade por número de vezes mencionado em redes sociais (presença/relevância)**"
   ]
  },
  {
   "cell_type": "code",
   "execution_count": 53,
   "metadata": {},
   "outputs": [
    {
     "data": {
      "text/plain": [
       "Text(0.5, 1.0, 'Quantidade de jogos por número de vezes mencionados em redes sociais')"
      ]
     },
     "execution_count": 53,
     "metadata": {},
     "output_type": "execute_result"
    },
    {
     "data": {
      "image/png": "[encoded data removed]",
      "text/plain": [
       "<Figure size 1296x360 with 1 Axes>"
      ]
     },
     "metadata": {
      "needs_background": "light"
     },
     "output_type": "display_data"
    }
   ],
   "source": [
    "Presence_inicial=jogos_Train.Presence\n",
    "\n",
    "faixas_Presence = np.linspace(Presence_inicial.min(),Presence_inicial.max(),100)\n",
    "\n",
    "plt.figure(figsize=(18, 5))\n",
    "\n",
    "plt.subplot(121)\n",
    "plt.hist(Presence_inicial, bins=faixas_Presence, color='green', edgecolor='white')\n",
    "plt.ylabel('quantidade')\n",
    "plt.xlabel('presença')\n",
    "plt.title('Quantidade de jogos por número de vezes mencionados em redes sociais')"
   ]
  },
  {
   "cell_type": "markdown",
   "metadata": {},
   "source": [
    "**Quantidade por nota do Metacritic**"
   ]
  },
  {
   "cell_type": "code",
   "execution_count": 54,
   "metadata": {},
   "outputs": [
    {
     "data": {
      "text/plain": [
       "Text(0.5, 1.0, 'Quantidade de jogos por nota do Metacritic')"
      ]
     },
     "execution_count": 54,
     "metadata": {},
     "output_type": "execute_result"
    },
    {
     "data": {
      "image/png": "[encoded data removed]",
      "text/plain": [
       "<Figure size 1296x360 with 1 Axes>"
      ]
     },
     "metadata": {
      "needs_background": "light"
     },
     "output_type": "display_data"
    }
   ],
   "source": [
    "metacritic_inicial=jogos_Train.Metacritic\n",
    "\n",
    "faixas_metacritic = np.linspace(metacritic_inicial.min(),metacritic_inicial.max(),100)\n",
    "\n",
    "plt.figure(figsize=(18, 5))\n",
    "\n",
    "plt.subplot(121)\n",
    "plt.hist(metacritic_inicial, bins=faixas_metacritic,color='blue', edgecolor='white')\n",
    "plt.ylabel('quantidade')\n",
    "plt.xlabel('nota do metacritic')\n",
    "plt.title('Quantidade de jogos por nota do Metacritic')"
   ]
  },
  {
   "cell_type": "markdown",
   "metadata": {},
   "source": [
    "**Nota do Metacritic por preço na data de lançamento, quantidade de achievements, quantidade de citações sobre o jogo na internet e**"
   ]
  },
  {
   "cell_type": "code",
   "execution_count": 127,
   "metadata": {},
   "outputs": [
    {
     "data": {
      "text/plain": [
       "Text(0, 0.5, 'nota do metacritic')"
      ]
     },
     "execution_count": 127,
     "metadata": {},
     "output_type": "execute_result"
    },
    {
     "data": {
      "image/png": "[encoded data removed]",
      "text/plain": [
       "<Figure size 1080x864 with 4 Axes>"
      ]
     },
     "metadata": {
      "needs_background": "light"
     },
     "output_type": "display_data"
    }
   ],
   "source": [
    "plt.figure(figsize=(15, 12))\n",
    "\n",
    "plt.subplot(221)\n",
    "plt.scatter(jogos_Train.OriginalCost,jogos_Train.Metacritic, c='red', alpha=0.1)\n",
    "plt.title('Nota de Metacritic por preço')\n",
    "plt.xlabel('preço original (dólar americano)')\n",
    "plt.ylabel('nota do metacritic')\n",
    "\n",
    "plt.subplot(222)\n",
    "plt.scatter(jogos_Train.Achievements,jogos_Train.Metacritic, c='red', alpha=0.1)\n",
    "plt.title('Nota de Metacritic por quantidade de achievements')\n",
    "plt.xlabel('quantidade de achievements')\n",
    "plt.ylabel('nota do metacritic')\n",
    "\n",
    "plt.subplot(223)\n",
    "plt.scatter(jogos_Train.Presence,jogos_Train.Metacritic, c='red', alpha=0.1)\n",
    "plt.title('Nota de Metacritic por quantidade de citações sobre o jogo na internet')\n",
    "plt.xlabel('quantidade de citações')\n",
    "plt.ylabel('nota do metacritic')\n",
    "\n",
    "plt.subplot(224)\n",
    "plt.scatter(jogos_Train.Languages,jogos_Train.Metacritic, c='red', alpha=0.1)\n",
    "plt.title('Nota de Metacritic por quantidade de linguas em que o jogo está disponível')\n",
    "plt.xlabel('quantidade de linguas')\n",
    "plt.ylabel('nota do metacritic')"
   ]
  },
  {
   "cell_type": "code",
   "execution_count": 128,
   "metadata": {
    "scrolled": false
   },
   "outputs": [
    {
     "data": {
      "text/html": [
       "<div>\n",
       "<style scoped>\n",
       "    .dataframe tbody tr th:only-of-type {\n",
       "        vertical-align: middle;\n",
       "    }\n",
       "\n",
       "    .dataframe tbody tr th {\n",
       "        vertical-align: top;\n",
       "    }\n",
       "\n",
       "    .dataframe thead th {\n",
       "        text-align: right;\n",
       "    }\n",
       "</style>\n",
       "<table border=\"1\" class=\"dataframe\">\n",
       "  <thead>\n",
       "    <tr style=\"text-align: right;\">\n",
       "      <th></th>\n",
       "      <th>Name</th>\n",
       "      <th>Metacritic</th>\n",
       "      <th>Genres</th>\n",
       "      <th>Indie</th>\n",
       "      <th>Presence</th>\n",
       "      <th>Platform</th>\n",
       "      <th>OriginalCost</th>\n",
       "      <th>Players</th>\n",
       "      <th>Languages</th>\n",
       "      <th>Achievements</th>\n",
       "      <th>Multiplayer</th>\n",
       "      <th>PVP</th>\n",
       "      <th>Coop</th>\n",
       "      <th>Online Coop</th>\n",
       "      <th>Singleplayer</th>\n",
       "    </tr>\n",
       "  </thead>\n",
       "  <tbody>\n",
       "    <tr>\n",
       "      <th>0</th>\n",
       "      <td>Counter-Strike: Global Offensive</td>\n",
       "      <td>830</td>\n",
       "      <td>Action, Free to Play</td>\n",
       "      <td>nao</td>\n",
       "      <td>10095880</td>\n",
       "      <td>PC, Xbox 360, PlayStation 3</td>\n",
       "      <td>0.00</td>\n",
       "      <td>multiplayer, pvp, coop, online coop</td>\n",
       "      <td>23</td>\n",
       "      <td>1790</td>\n",
       "      <td>True</td>\n",
       "      <td>True</td>\n",
       "      <td>True</td>\n",
       "      <td>True</td>\n",
       "      <td>NaN</td>\n",
       "    </tr>\n",
       "    <tr>\n",
       "      <th>1</th>\n",
       "      <td>Destiny 2</td>\n",
       "      <td>820</td>\n",
       "      <td>Action, Adventure, Free to Play</td>\n",
       "      <td>nao</td>\n",
       "      <td>10074250</td>\n",
       "      <td>PlayStation 5, Web, Xbox Series X, PC, Xbox One, PlayStation 4</td>\n",
       "      <td>0.00</td>\n",
       "      <td>multiplayer, coop, online coop</td>\n",
       "      <td>8</td>\n",
       "      <td>610</td>\n",
       "      <td>True</td>\n",
       "      <td>NaN</td>\n",
       "      <td>True</td>\n",
       "      <td>True</td>\n",
       "      <td>NaN</td>\n",
       "    </tr>\n",
       "    <tr>\n",
       "      <th>2</th>\n",
       "      <td>The Elder Scrolls Online</td>\n",
       "      <td>710</td>\n",
       "      <td>Massively Multiplayer, RPG</td>\n",
       "      <td>nao</td>\n",
       "      <td>10007810</td>\n",
       "      <td>PC</td>\n",
       "      <td>19.99</td>\n",
       "      <td>singleplayer, multiplayer, coop</td>\n",
       "      <td>4</td>\n",
       "      <td>0</td>\n",
       "      <td>True</td>\n",
       "      <td>NaN</td>\n",
       "      <td>True</td>\n",
       "      <td>NaN</td>\n",
       "      <td>True</td>\n",
       "    </tr>\n",
       "    <tr>\n",
       "      <th>3</th>\n",
       "      <td>Sea of Thieves</td>\n",
       "      <td>680</td>\n",
       "      <td>Action, Adventure</td>\n",
       "      <td>nao</td>\n",
       "      <td>7774560</td>\n",
       "      <td>PC, Xbox One</td>\n",
       "      <td>39.99</td>\n",
       "      <td>multiplayer, pvp, coop, online coop</td>\n",
       "      <td>5</td>\n",
       "      <td>3080</td>\n",
       "      <td>True</td>\n",
       "      <td>True</td>\n",
       "      <td>True</td>\n",
       "      <td>True</td>\n",
       "      <td>NaN</td>\n",
       "    </tr>\n",
       "    <tr>\n",
       "      <th>4</th>\n",
       "      <td>Tom Clancy's Rainbow Six Siege</td>\n",
       "      <td>750</td>\n",
       "      <td>Action</td>\n",
       "      <td>nao</td>\n",
       "      <td>10014240</td>\n",
       "      <td>PlayStation 4, PC, Xbox One</td>\n",
       "      <td>19.99</td>\n",
       "      <td>singleplayer, multiplayer, coop, online coop</td>\n",
       "      <td>12</td>\n",
       "      <td>820</td>\n",
       "      <td>True</td>\n",
       "      <td>NaN</td>\n",
       "      <td>True</td>\n",
       "      <td>True</td>\n",
       "      <td>True</td>\n",
       "    </tr>\n",
       "  </tbody>\n",
       "</table>\n",
       "</div>"
      ],
      "text/plain": [
       "                               Name  Metacritic  \\\n",
       "0  Counter-Strike: Global Offensive         830   \n",
       "1                         Destiny 2         820   \n",
       "2          The Elder Scrolls Online         710   \n",
       "3                    Sea of Thieves         680   \n",
       "4    Tom Clancy's Rainbow Six Siege         750   \n",
       "\n",
       "                            Genres Indie  Presence  \\\n",
       "0             Action, Free to Play   nao  10095880   \n",
       "1  Action, Adventure, Free to Play   nao  10074250   \n",
       "2       Massively Multiplayer, RPG   nao  10007810   \n",
       "3                Action, Adventure   nao   7774560   \n",
       "4                           Action   nao  10014240   \n",
       "\n",
       "                                                         Platform  \\\n",
       "0                                     PC, Xbox 360, PlayStation 3   \n",
       "1  PlayStation 5, Web, Xbox Series X, PC, Xbox One, PlayStation 4   \n",
       "2                                                              PC   \n",
       "3                                                    PC, Xbox One   \n",
       "4                                     PlayStation 4, PC, Xbox One   \n",
       "\n",
       "   OriginalCost                                       Players  Languages  \\\n",
       "0          0.00           multiplayer, pvp, coop, online coop         23   \n",
       "1          0.00                multiplayer, coop, online coop          8   \n",
       "2         19.99               singleplayer, multiplayer, coop          4   \n",
       "3         39.99           multiplayer, pvp, coop, online coop          5   \n",
       "4         19.99  singleplayer, multiplayer, coop, online coop         12   \n",
       "\n",
       "   Achievements Multiplayer   PVP  Coop Online Coop Singleplayer  \n",
       "0          1790        True  True  True        True          NaN  \n",
       "1           610        True   NaN  True        True          NaN  \n",
       "2             0        True   NaN  True         NaN         True  \n",
       "3          3080        True  True  True        True          NaN  \n",
       "4           820        True   NaN  True        True         True  "
      ]
     },
     "execution_count": 128,
     "metadata": {},
     "output_type": "execute_result"
    }
   ],
   "source": [
    "jogos_Train.head(5)"
   ]
  },
  {
   "cell_type": "code",
   "execution_count": 129,
   "metadata": {},
   "outputs": [
    {
     "name": "stdout",
     "output_type": "stream",
     "text": [
      "['Action', 'Massively Multiplayer', 'Strategy', 'Racing', 'RPG', 'Simulation', 'Casual', 'Adventure', 'Indie', 'Sports', 'Free to Play']\n"
     ]
    }
   ],
   "source": [
    "textog=\",\".join(jogos_Train.Genres)\n",
    "textog=textog.split(\",\")\n",
    "lista_gen=[]\n",
    "for el in textog:\n",
    "    if el not in lista_gen and el[0]!=\" \":\n",
    "        lista_gen.append(el)\n",
    "print(lista_gen)\n",
    "\n",
    "\n"
   ]
  },
  {
   "cell_type": "code",
   "execution_count": null,
   "metadata": {},
   "outputs": [],
   "source": []
  },
  {
   "cell_type": "code",
   "execution_count": 130,
   "metadata": {},
   "outputs": [
    {
     "name": "stdout",
     "output_type": "stream",
     "text": [
      "['PC', 'PlayStation 5', 'PlayStation 4', 'Linux', 'Xbox One', 'macOS', 'Android', 'iOS', 'Nintendo Switch', 'PlayStation 3', 'Xbox 360', 'Nintendo 3DS', 'GameCube', 'SNES', 'PS Vita', 'Nintendo DS', 'PlayStation 2', 'Xbox', 'Wii', 'PlayStation', 'Dreamcast']\n"
     ]
    }
   ],
   "source": [
    "textplat=\",\".join(jogos_Train.Platform)\n",
    "textplat=textplat.split(\",\")\n",
    "lista_plat=[]\n",
    "for el in textplat:\n",
    "    if el not in lista_plat and el[0]!=\" \":\n",
    "        lista_plat.append(el)\n",
    "print(lista_plat)"
   ]
  },
  {
   "cell_type": "code",
   "execution_count": 131,
   "metadata": {},
   "outputs": [
    {
     "ename": "ValueError",
     "evalue": "Cannot setitem on a Categorical with a new category, set the categories first",
     "output_type": "error",
     "traceback": [
      "\u001b[1;31m---------------------------------------------------------------------------\u001b[0m",
      "\u001b[1;31mValueError\u001b[0m                                Traceback (most recent call last)",
      "\u001b[1;32m<ipython-input-131-928d05824fb3>\u001b[0m in \u001b[0;36m<module>\u001b[1;34m\u001b[0m\n\u001b[0;32m      1\u001b[0m \u001b[1;32mfor\u001b[0m \u001b[0melem\u001b[0m \u001b[1;32min\u001b[0m \u001b[0mlista_gen\u001b[0m\u001b[1;33m:\u001b[0m\u001b[1;33m\u001b[0m\u001b[1;33m\u001b[0m\u001b[0m\n\u001b[0;32m      2\u001b[0m     \u001b[0mfiltrod\u001b[0m\u001b[1;33m=\u001b[0m\u001b[0mjogos_Train\u001b[0m\u001b[1;33m.\u001b[0m\u001b[0mGenres\u001b[0m\u001b[1;33m.\u001b[0m\u001b[0mstr\u001b[0m\u001b[1;33m.\u001b[0m\u001b[0mcontains\u001b[0m\u001b[1;33m(\u001b[0m\u001b[1;34mf\"{elem}\"\u001b[0m\u001b[1;33m)\u001b[0m\u001b[1;33m\u001b[0m\u001b[1;33m\u001b[0m\u001b[0m\n\u001b[1;32m----> 3\u001b[1;33m     \u001b[0mjogos_Train\u001b[0m\u001b[1;33m.\u001b[0m\u001b[0mloc\u001b[0m\u001b[1;33m[\u001b[0m\u001b[0mfiltrod\u001b[0m\u001b[1;33m,\u001b[0m\u001b[1;34mf\"{elem}\"\u001b[0m\u001b[1;33m]\u001b[0m\u001b[1;33m=\u001b[0m\u001b[0mfiltrod\u001b[0m\u001b[1;33m\u001b[0m\u001b[1;33m\u001b[0m\u001b[0m\n\u001b[0m\u001b[0;32m      4\u001b[0m \u001b[1;33m\u001b[0m\u001b[0m\n",
      "\u001b[1;32m~\\Anaconda3\\lib\\site-packages\\pandas\\core\\indexing.py\u001b[0m in \u001b[0;36m__setitem__\u001b[1;34m(self, key, value)\u001b[0m\n\u001b[0;32m    668\u001b[0m             \u001b[0mkey\u001b[0m \u001b[1;33m=\u001b[0m \u001b[0mcom\u001b[0m\u001b[1;33m.\u001b[0m\u001b[0mapply_if_callable\u001b[0m\u001b[1;33m(\u001b[0m\u001b[0mkey\u001b[0m\u001b[1;33m,\u001b[0m \u001b[0mself\u001b[0m\u001b[1;33m.\u001b[0m\u001b[0mobj\u001b[0m\u001b[1;33m)\u001b[0m\u001b[1;33m\u001b[0m\u001b[1;33m\u001b[0m\u001b[0m\n\u001b[0;32m    669\u001b[0m         \u001b[0mindexer\u001b[0m \u001b[1;33m=\u001b[0m \u001b[0mself\u001b[0m\u001b[1;33m.\u001b[0m\u001b[0m_get_setitem_indexer\u001b[0m\u001b[1;33m(\u001b[0m\u001b[0mkey\u001b[0m\u001b[1;33m)\u001b[0m\u001b[1;33m\u001b[0m\u001b[1;33m\u001b[0m\u001b[0m\n\u001b[1;32m--> 670\u001b[1;33m         \u001b[0mself\u001b[0m\u001b[1;33m.\u001b[0m\u001b[0m_setitem_with_indexer\u001b[0m\u001b[1;33m(\u001b[0m\u001b[0mindexer\u001b[0m\u001b[1;33m,\u001b[0m \u001b[0mvalue\u001b[0m\u001b[1;33m)\u001b[0m\u001b[1;33m\u001b[0m\u001b[1;33m\u001b[0m\u001b[0m\n\u001b[0m\u001b[0;32m    671\u001b[0m \u001b[1;33m\u001b[0m\u001b[0m\n\u001b[0;32m    672\u001b[0m     \u001b[1;32mdef\u001b[0m \u001b[0m_validate_key\u001b[0m\u001b[1;33m(\u001b[0m\u001b[0mself\u001b[0m\u001b[1;33m,\u001b[0m \u001b[0mkey\u001b[0m\u001b[1;33m,\u001b[0m \u001b[0maxis\u001b[0m\u001b[1;33m:\u001b[0m \u001b[0mint\u001b[0m\u001b[1;33m)\u001b[0m\u001b[1;33m:\u001b[0m\u001b[1;33m\u001b[0m\u001b[1;33m\u001b[0m\u001b[0m\n",
      "\u001b[1;32m~\\Anaconda3\\lib\\site-packages\\pandas\\core\\indexing.py\u001b[0m in \u001b[0;36m_setitem_with_indexer\u001b[1;34m(self, indexer, value)\u001b[0m\n\u001b[0;32m   1009\u001b[0m                     \u001b[0mlabels\u001b[0m\u001b[1;33m,\u001b[0m \u001b[0mvalue\u001b[0m\u001b[1;33m,\u001b[0m \u001b[0mplane_indexer\u001b[0m\u001b[1;33m,\u001b[0m \u001b[0mlplane_indexer\u001b[0m\u001b[1;33m,\u001b[0m \u001b[0mself\u001b[0m\u001b[1;33m.\u001b[0m\u001b[0mobj\u001b[0m\u001b[1;33m\u001b[0m\u001b[1;33m\u001b[0m\u001b[0m\n\u001b[0;32m   1010\u001b[0m                 ):\n\u001b[1;32m-> 1011\u001b[1;33m                     \u001b[0msetter\u001b[0m\u001b[1;33m(\u001b[0m\u001b[0mlabels\u001b[0m\u001b[1;33m[\u001b[0m\u001b[1;36m0\u001b[0m\u001b[1;33m]\u001b[0m\u001b[1;33m,\u001b[0m \u001b[0mvalue\u001b[0m\u001b[1;33m)\u001b[0m\u001b[1;33m\u001b[0m\u001b[1;33m\u001b[0m\u001b[0m\n\u001b[0m\u001b[0;32m   1012\u001b[0m \u001b[1;33m\u001b[0m\u001b[0m\n\u001b[0;32m   1013\u001b[0m                 \u001b[1;31m# per label values\u001b[0m\u001b[1;33m\u001b[0m\u001b[1;33m\u001b[0m\u001b[1;33m\u001b[0m\u001b[0m\n",
      "\u001b[1;32m~\\Anaconda3\\lib\\site-packages\\pandas\\core\\indexing.py\u001b[0m in \u001b[0;36msetter\u001b[1;34m(item, v)\u001b[0m\n\u001b[0;32m    959\u001b[0m                     \u001b[0ms\u001b[0m\u001b[1;33m.\u001b[0m\u001b[0m_consolidate_inplace\u001b[0m\u001b[1;33m(\u001b[0m\u001b[1;33m)\u001b[0m\u001b[1;33m\u001b[0m\u001b[1;33m\u001b[0m\u001b[0m\n\u001b[0;32m    960\u001b[0m                     \u001b[0ms\u001b[0m \u001b[1;33m=\u001b[0m \u001b[0ms\u001b[0m\u001b[1;33m.\u001b[0m\u001b[0mcopy\u001b[0m\u001b[1;33m(\u001b[0m\u001b[1;33m)\u001b[0m\u001b[1;33m\u001b[0m\u001b[1;33m\u001b[0m\u001b[0m\n\u001b[1;32m--> 961\u001b[1;33m                     \u001b[0ms\u001b[0m\u001b[1;33m.\u001b[0m\u001b[0m_data\u001b[0m \u001b[1;33m=\u001b[0m \u001b[0ms\u001b[0m\u001b[1;33m.\u001b[0m\u001b[0m_data\u001b[0m\u001b[1;33m.\u001b[0m\u001b[0msetitem\u001b[0m\u001b[1;33m(\u001b[0m\u001b[0mindexer\u001b[0m\u001b[1;33m=\u001b[0m\u001b[0mpi\u001b[0m\u001b[1;33m,\u001b[0m \u001b[0mvalue\u001b[0m\u001b[1;33m=\u001b[0m\u001b[0mv\u001b[0m\u001b[1;33m)\u001b[0m\u001b[1;33m\u001b[0m\u001b[1;33m\u001b[0m\u001b[0m\n\u001b[0m\u001b[0;32m    962\u001b[0m                     \u001b[0ms\u001b[0m\u001b[1;33m.\u001b[0m\u001b[0m_maybe_update_cacher\u001b[0m\u001b[1;33m(\u001b[0m\u001b[0mclear\u001b[0m\u001b[1;33m=\u001b[0m\u001b[1;32mTrue\u001b[0m\u001b[1;33m)\u001b[0m\u001b[1;33m\u001b[0m\u001b[1;33m\u001b[0m\u001b[0m\n\u001b[0;32m    963\u001b[0m \u001b[1;33m\u001b[0m\u001b[0m\n",
      "\u001b[1;32m~\\Anaconda3\\lib\\site-packages\\pandas\\core\\internals\\managers.py\u001b[0m in \u001b[0;36msetitem\u001b[1;34m(self, **kwargs)\u001b[0m\n\u001b[0;32m    559\u001b[0m \u001b[1;33m\u001b[0m\u001b[0m\n\u001b[0;32m    560\u001b[0m     \u001b[1;32mdef\u001b[0m \u001b[0msetitem\u001b[0m\u001b[1;33m(\u001b[0m\u001b[0mself\u001b[0m\u001b[1;33m,\u001b[0m \u001b[1;33m**\u001b[0m\u001b[0mkwargs\u001b[0m\u001b[1;33m)\u001b[0m\u001b[1;33m:\u001b[0m\u001b[1;33m\u001b[0m\u001b[1;33m\u001b[0m\u001b[0m\n\u001b[1;32m--> 561\u001b[1;33m         \u001b[1;32mreturn\u001b[0m \u001b[0mself\u001b[0m\u001b[1;33m.\u001b[0m\u001b[0mapply\u001b[0m\u001b[1;33m(\u001b[0m\u001b[1;34m\"setitem\"\u001b[0m\u001b[1;33m,\u001b[0m \u001b[1;33m**\u001b[0m\u001b[0mkwargs\u001b[0m\u001b[1;33m)\u001b[0m\u001b[1;33m\u001b[0m\u001b[1;33m\u001b[0m\u001b[0m\n\u001b[0m\u001b[0;32m    562\u001b[0m \u001b[1;33m\u001b[0m\u001b[0m\n\u001b[0;32m    563\u001b[0m     \u001b[1;32mdef\u001b[0m \u001b[0mputmask\u001b[0m\u001b[1;33m(\u001b[0m\u001b[0mself\u001b[0m\u001b[1;33m,\u001b[0m \u001b[1;33m**\u001b[0m\u001b[0mkwargs\u001b[0m\u001b[1;33m)\u001b[0m\u001b[1;33m:\u001b[0m\u001b[1;33m\u001b[0m\u001b[1;33m\u001b[0m\u001b[0m\n",
      "\u001b[1;32m~\\Anaconda3\\lib\\site-packages\\pandas\\core\\internals\\managers.py\u001b[0m in \u001b[0;36mapply\u001b[1;34m(self, f, filter, **kwargs)\u001b[0m\n\u001b[0;32m    440\u001b[0m                 \u001b[0mapplied\u001b[0m \u001b[1;33m=\u001b[0m \u001b[0mb\u001b[0m\u001b[1;33m.\u001b[0m\u001b[0mapply\u001b[0m\u001b[1;33m(\u001b[0m\u001b[0mf\u001b[0m\u001b[1;33m,\u001b[0m \u001b[1;33m**\u001b[0m\u001b[0mkwargs\u001b[0m\u001b[1;33m)\u001b[0m\u001b[1;33m\u001b[0m\u001b[1;33m\u001b[0m\u001b[0m\n\u001b[0;32m    441\u001b[0m             \u001b[1;32melse\u001b[0m\u001b[1;33m:\u001b[0m\u001b[1;33m\u001b[0m\u001b[1;33m\u001b[0m\u001b[0m\n\u001b[1;32m--> 442\u001b[1;33m                 \u001b[0mapplied\u001b[0m \u001b[1;33m=\u001b[0m \u001b[0mgetattr\u001b[0m\u001b[1;33m(\u001b[0m\u001b[0mb\u001b[0m\u001b[1;33m,\u001b[0m \u001b[0mf\u001b[0m\u001b[1;33m)\u001b[0m\u001b[1;33m(\u001b[0m\u001b[1;33m**\u001b[0m\u001b[0mkwargs\u001b[0m\u001b[1;33m)\u001b[0m\u001b[1;33m\u001b[0m\u001b[1;33m\u001b[0m\u001b[0m\n\u001b[0m\u001b[0;32m    443\u001b[0m             \u001b[0mresult_blocks\u001b[0m \u001b[1;33m=\u001b[0m \u001b[0m_extend_blocks\u001b[0m\u001b[1;33m(\u001b[0m\u001b[0mapplied\u001b[0m\u001b[1;33m,\u001b[0m \u001b[0mresult_blocks\u001b[0m\u001b[1;33m)\u001b[0m\u001b[1;33m\u001b[0m\u001b[1;33m\u001b[0m\u001b[0m\n\u001b[0;32m    444\u001b[0m \u001b[1;33m\u001b[0m\u001b[0m\n",
      "\u001b[1;32m~\\Anaconda3\\lib\\site-packages\\pandas\\core\\internals\\blocks.py\u001b[0m in \u001b[0;36msetitem\u001b[1;34m(self, indexer, value)\u001b[0m\n\u001b[0;32m   1795\u001b[0m \u001b[1;33m\u001b[0m\u001b[0m\n\u001b[0;32m   1796\u001b[0m         \u001b[0mcheck_setitem_lengths\u001b[0m\u001b[1;33m(\u001b[0m\u001b[0mindexer\u001b[0m\u001b[1;33m,\u001b[0m \u001b[0mvalue\u001b[0m\u001b[1;33m,\u001b[0m \u001b[0mself\u001b[0m\u001b[1;33m.\u001b[0m\u001b[0mvalues\u001b[0m\u001b[1;33m)\u001b[0m\u001b[1;33m\u001b[0m\u001b[1;33m\u001b[0m\u001b[0m\n\u001b[1;32m-> 1797\u001b[1;33m         \u001b[0mself\u001b[0m\u001b[1;33m.\u001b[0m\u001b[0mvalues\u001b[0m\u001b[1;33m[\u001b[0m\u001b[0mindexer\u001b[0m\u001b[1;33m]\u001b[0m \u001b[1;33m=\u001b[0m \u001b[0mvalue\u001b[0m\u001b[1;33m\u001b[0m\u001b[1;33m\u001b[0m\u001b[0m\n\u001b[0m\u001b[0;32m   1798\u001b[0m         \u001b[1;32mreturn\u001b[0m \u001b[0mself\u001b[0m\u001b[1;33m\u001b[0m\u001b[1;33m\u001b[0m\u001b[0m\n\u001b[0;32m   1799\u001b[0m \u001b[1;33m\u001b[0m\u001b[0m\n",
      "\u001b[1;32m~\\Anaconda3\\lib\\site-packages\\pandas\\core\\arrays\\categorical.py\u001b[0m in \u001b[0;36m__setitem__\u001b[1;34m(self, key, value)\u001b[0m\n\u001b[0;32m   2045\u001b[0m         \u001b[1;32mif\u001b[0m \u001b[0mlen\u001b[0m\u001b[1;33m(\u001b[0m\u001b[0mto_add\u001b[0m\u001b[1;33m)\u001b[0m \u001b[1;32mand\u001b[0m \u001b[1;32mnot\u001b[0m \u001b[0misna\u001b[0m\u001b[1;33m(\u001b[0m\u001b[0mto_add\u001b[0m\u001b[1;33m)\u001b[0m\u001b[1;33m.\u001b[0m\u001b[0mall\u001b[0m\u001b[1;33m(\u001b[0m\u001b[1;33m)\u001b[0m\u001b[1;33m:\u001b[0m\u001b[1;33m\u001b[0m\u001b[1;33m\u001b[0m\u001b[0m\n\u001b[0;32m   2046\u001b[0m             raise ValueError(\n\u001b[1;32m-> 2047\u001b[1;33m                 \u001b[1;34m\"Cannot setitem on a Categorical with a new \"\u001b[0m\u001b[1;33m\u001b[0m\u001b[1;33m\u001b[0m\u001b[0m\n\u001b[0m\u001b[0;32m   2048\u001b[0m                 \u001b[1;34m\"category, set the categories first\"\u001b[0m\u001b[1;33m\u001b[0m\u001b[1;33m\u001b[0m\u001b[0m\n\u001b[0;32m   2049\u001b[0m             )\n",
      "\u001b[1;31mValueError\u001b[0m: Cannot setitem on a Categorical with a new category, set the categories first"
     ]
    }
   ],
   "source": [
    "\n",
    "for elem in lista_gen:\n",
    "    filtrod=jogos_Train.Genres.str.contains(f\"{elem}\")\n",
    "    jogos_Train.loc[filtrod,f\"{elem}\"]=filtrod\n",
    "\n"
   ]
  },
  {
   "cell_type": "code",
   "execution_count": 132,
   "metadata": {},
   "outputs": [],
   "source": [
    "for ele in lista_plat:\n",
    "    filtrodd=jogos_Train.Platform.str.contains(f\"{ele}\")\n",
    "    jogos_Train.loc[filtrodd,f\"{ele}\"]=filtrodd"
   ]
  },
  {
   "cell_type": "code",
   "execution_count": 133,
   "metadata": {},
   "outputs": [],
   "source": [
    "del jogos_Train[\"Players\"]\n",
    "del jogos_Train[\"Genres\"]\n",
    "del jogos_Train[\"Platform\"]"
   ]
  },
  {
   "cell_type": "code",
   "execution_count": 134,
   "metadata": {},
   "outputs": [
    {
     "data": {
      "text/html": [
       "<div>\n",
       "<style scoped>\n",
       "    .dataframe tbody tr th:only-of-type {\n",
       "        vertical-align: middle;\n",
       "    }\n",
       "\n",
       "    .dataframe tbody tr th {\n",
       "        vertical-align: top;\n",
       "    }\n",
       "\n",
       "    .dataframe thead th {\n",
       "        text-align: right;\n",
       "    }\n",
       "</style>\n",
       "<table border=\"1\" class=\"dataframe\">\n",
       "  <thead>\n",
       "    <tr style=\"text-align: right;\">\n",
       "      <th></th>\n",
       "      <th>Name</th>\n",
       "      <th>Metacritic</th>\n",
       "      <th>Indie</th>\n",
       "      <th>Presence</th>\n",
       "      <th>OriginalCost</th>\n",
       "      <th>Languages</th>\n",
       "      <th>Achievements</th>\n",
       "      <th>Multiplayer</th>\n",
       "      <th>PVP</th>\n",
       "      <th>Coop</th>\n",
       "      <th>...</th>\n",
       "      <th>Nintendo 3DS</th>\n",
       "      <th>GameCube</th>\n",
       "      <th>SNES</th>\n",
       "      <th>PS Vita</th>\n",
       "      <th>Nintendo DS</th>\n",
       "      <th>PlayStation 2</th>\n",
       "      <th>Xbox</th>\n",
       "      <th>Wii</th>\n",
       "      <th>PlayStation</th>\n",
       "      <th>Dreamcast</th>\n",
       "    </tr>\n",
       "  </thead>\n",
       "  <tbody>\n",
       "    <tr>\n",
       "      <th>0</th>\n",
       "      <td>Counter-Strike: Global Offensive</td>\n",
       "      <td>830</td>\n",
       "      <td>nao</td>\n",
       "      <td>10095880</td>\n",
       "      <td>0.00</td>\n",
       "      <td>23</td>\n",
       "      <td>1790</td>\n",
       "      <td>True</td>\n",
       "      <td>True</td>\n",
       "      <td>True</td>\n",
       "      <td>...</td>\n",
       "      <td>False</td>\n",
       "      <td>False</td>\n",
       "      <td>False</td>\n",
       "      <td>False</td>\n",
       "      <td>False</td>\n",
       "      <td>False</td>\n",
       "      <td>True</td>\n",
       "      <td>False</td>\n",
       "      <td>True</td>\n",
       "      <td>False</td>\n",
       "    </tr>\n",
       "    <tr>\n",
       "      <th>1</th>\n",
       "      <td>Destiny 2</td>\n",
       "      <td>820</td>\n",
       "      <td>nao</td>\n",
       "      <td>10074250</td>\n",
       "      <td>0.00</td>\n",
       "      <td>8</td>\n",
       "      <td>610</td>\n",
       "      <td>True</td>\n",
       "      <td>False</td>\n",
       "      <td>True</td>\n",
       "      <td>...</td>\n",
       "      <td>False</td>\n",
       "      <td>False</td>\n",
       "      <td>False</td>\n",
       "      <td>False</td>\n",
       "      <td>False</td>\n",
       "      <td>False</td>\n",
       "      <td>True</td>\n",
       "      <td>False</td>\n",
       "      <td>True</td>\n",
       "      <td>False</td>\n",
       "    </tr>\n",
       "    <tr>\n",
       "      <th>2</th>\n",
       "      <td>The Elder Scrolls Online</td>\n",
       "      <td>710</td>\n",
       "      <td>nao</td>\n",
       "      <td>10007810</td>\n",
       "      <td>19.99</td>\n",
       "      <td>4</td>\n",
       "      <td>0</td>\n",
       "      <td>True</td>\n",
       "      <td>False</td>\n",
       "      <td>True</td>\n",
       "      <td>...</td>\n",
       "      <td>False</td>\n",
       "      <td>False</td>\n",
       "      <td>False</td>\n",
       "      <td>False</td>\n",
       "      <td>False</td>\n",
       "      <td>False</td>\n",
       "      <td>False</td>\n",
       "      <td>False</td>\n",
       "      <td>False</td>\n",
       "      <td>False</td>\n",
       "    </tr>\n",
       "    <tr>\n",
       "      <th>3</th>\n",
       "      <td>Sea of Thieves</td>\n",
       "      <td>680</td>\n",
       "      <td>nao</td>\n",
       "      <td>7774560</td>\n",
       "      <td>39.99</td>\n",
       "      <td>5</td>\n",
       "      <td>3080</td>\n",
       "      <td>True</td>\n",
       "      <td>True</td>\n",
       "      <td>True</td>\n",
       "      <td>...</td>\n",
       "      <td>False</td>\n",
       "      <td>False</td>\n",
       "      <td>False</td>\n",
       "      <td>False</td>\n",
       "      <td>False</td>\n",
       "      <td>False</td>\n",
       "      <td>True</td>\n",
       "      <td>False</td>\n",
       "      <td>False</td>\n",
       "      <td>False</td>\n",
       "    </tr>\n",
       "    <tr>\n",
       "      <th>4</th>\n",
       "      <td>Tom Clancy's Rainbow Six Siege</td>\n",
       "      <td>750</td>\n",
       "      <td>nao</td>\n",
       "      <td>10014240</td>\n",
       "      <td>19.99</td>\n",
       "      <td>12</td>\n",
       "      <td>820</td>\n",
       "      <td>True</td>\n",
       "      <td>False</td>\n",
       "      <td>True</td>\n",
       "      <td>...</td>\n",
       "      <td>False</td>\n",
       "      <td>False</td>\n",
       "      <td>False</td>\n",
       "      <td>False</td>\n",
       "      <td>False</td>\n",
       "      <td>False</td>\n",
       "      <td>True</td>\n",
       "      <td>False</td>\n",
       "      <td>True</td>\n",
       "      <td>False</td>\n",
       "    </tr>\n",
       "  </tbody>\n",
       "</table>\n",
       "<p>5 rows × 41 columns</p>\n",
       "</div>"
      ],
      "text/plain": [
       "                               Name  Metacritic Indie  Presence  OriginalCost  \\\n",
       "0  Counter-Strike: Global Offensive         830   nao  10095880          0.00   \n",
       "1                         Destiny 2         820   nao  10074250          0.00   \n",
       "2          The Elder Scrolls Online         710   nao  10007810         19.99   \n",
       "3                    Sea of Thieves         680   nao   7774560         39.99   \n",
       "4    Tom Clancy's Rainbow Six Siege         750   nao  10014240         19.99   \n",
       "\n",
       "   Languages  Achievements  Multiplayer    PVP  Coop  ...  Nintendo 3DS  \\\n",
       "0         23          1790         True   True  True  ...         False   \n",
       "1          8           610         True  False  True  ...         False   \n",
       "2          4             0         True  False  True  ...         False   \n",
       "3          5          3080         True   True  True  ...         False   \n",
       "4         12           820         True  False  True  ...         False   \n",
       "\n",
       "   GameCube   SNES  PS Vita  Nintendo DS  PlayStation 2   Xbox    Wii  \\\n",
       "0     False  False    False        False          False   True  False   \n",
       "1     False  False    False        False          False   True  False   \n",
       "2     False  False    False        False          False  False  False   \n",
       "3     False  False    False        False          False   True  False   \n",
       "4     False  False    False        False          False   True  False   \n",
       "\n",
       "   PlayStation  Dreamcast  \n",
       "0         True      False  \n",
       "1         True      False  \n",
       "2        False      False  \n",
       "3        False      False  \n",
       "4         True      False  \n",
       "\n",
       "[5 rows x 41 columns]"
      ]
     },
     "execution_count": 134,
     "metadata": {},
     "output_type": "execute_result"
    }
   ],
   "source": [
    "jogos_Train= jogos_Train.replace(np.nan, False, regex=True)\n",
    "jogos_Train.head(5)"
   ]
  },
  {
   "cell_type": "code",
   "execution_count": 135,
   "metadata": {},
   "outputs": [
    {
     "data": {
      "text/html": [
       "<div>\n",
       "<style scoped>\n",
       "    .dataframe tbody tr th:only-of-type {\n",
       "        vertical-align: middle;\n",
       "    }\n",
       "\n",
       "    .dataframe tbody tr th {\n",
       "        vertical-align: top;\n",
       "    }\n",
       "\n",
       "    .dataframe thead th {\n",
       "        text-align: right;\n",
       "    }\n",
       "</style>\n",
       "<table border=\"1\" class=\"dataframe\">\n",
       "  <thead>\n",
       "    <tr style=\"text-align: right;\">\n",
       "      <th></th>\n",
       "      <th>Name</th>\n",
       "      <th>Metacritic</th>\n",
       "      <th>Indie</th>\n",
       "      <th>Presence</th>\n",
       "      <th>OriginalCost</th>\n",
       "      <th>Languages</th>\n",
       "      <th>Achievements</th>\n",
       "      <th>Multiplayer</th>\n",
       "      <th>PVP</th>\n",
       "      <th>Coop</th>\n",
       "      <th>...</th>\n",
       "      <th>Nintendo 3DS</th>\n",
       "      <th>GameCube</th>\n",
       "      <th>SNES</th>\n",
       "      <th>PS Vita</th>\n",
       "      <th>Nintendo DS</th>\n",
       "      <th>PlayStation 2</th>\n",
       "      <th>Xbox</th>\n",
       "      <th>Wii</th>\n",
       "      <th>PlayStation</th>\n",
       "      <th>Dreamcast</th>\n",
       "    </tr>\n",
       "  </thead>\n",
       "  <tbody>\n",
       "    <tr>\n",
       "      <th>0</th>\n",
       "      <td>Counter-Strike: Global Offensive</td>\n",
       "      <td>830</td>\n",
       "      <td>nao</td>\n",
       "      <td>10095880</td>\n",
       "      <td>0.00</td>\n",
       "      <td>23</td>\n",
       "      <td>1790</td>\n",
       "      <td>True</td>\n",
       "      <td>True</td>\n",
       "      <td>True</td>\n",
       "      <td>...</td>\n",
       "      <td>False</td>\n",
       "      <td>False</td>\n",
       "      <td>False</td>\n",
       "      <td>False</td>\n",
       "      <td>False</td>\n",
       "      <td>False</td>\n",
       "      <td>True</td>\n",
       "      <td>False</td>\n",
       "      <td>True</td>\n",
       "      <td>False</td>\n",
       "    </tr>\n",
       "    <tr>\n",
       "      <th>1</th>\n",
       "      <td>Destiny 2</td>\n",
       "      <td>820</td>\n",
       "      <td>nao</td>\n",
       "      <td>10074250</td>\n",
       "      <td>0.00</td>\n",
       "      <td>8</td>\n",
       "      <td>610</td>\n",
       "      <td>True</td>\n",
       "      <td>False</td>\n",
       "      <td>True</td>\n",
       "      <td>...</td>\n",
       "      <td>False</td>\n",
       "      <td>False</td>\n",
       "      <td>False</td>\n",
       "      <td>False</td>\n",
       "      <td>False</td>\n",
       "      <td>False</td>\n",
       "      <td>True</td>\n",
       "      <td>False</td>\n",
       "      <td>True</td>\n",
       "      <td>False</td>\n",
       "    </tr>\n",
       "    <tr>\n",
       "      <th>2</th>\n",
       "      <td>The Elder Scrolls Online</td>\n",
       "      <td>710</td>\n",
       "      <td>nao</td>\n",
       "      <td>10007810</td>\n",
       "      <td>19.99</td>\n",
       "      <td>4</td>\n",
       "      <td>0</td>\n",
       "      <td>True</td>\n",
       "      <td>False</td>\n",
       "      <td>True</td>\n",
       "      <td>...</td>\n",
       "      <td>False</td>\n",
       "      <td>False</td>\n",
       "      <td>False</td>\n",
       "      <td>False</td>\n",
       "      <td>False</td>\n",
       "      <td>False</td>\n",
       "      <td>False</td>\n",
       "      <td>False</td>\n",
       "      <td>False</td>\n",
       "      <td>False</td>\n",
       "    </tr>\n",
       "    <tr>\n",
       "      <th>3</th>\n",
       "      <td>Sea of Thieves</td>\n",
       "      <td>680</td>\n",
       "      <td>nao</td>\n",
       "      <td>7774560</td>\n",
       "      <td>39.99</td>\n",
       "      <td>5</td>\n",
       "      <td>3080</td>\n",
       "      <td>True</td>\n",
       "      <td>True</td>\n",
       "      <td>True</td>\n",
       "      <td>...</td>\n",
       "      <td>False</td>\n",
       "      <td>False</td>\n",
       "      <td>False</td>\n",
       "      <td>False</td>\n",
       "      <td>False</td>\n",
       "      <td>False</td>\n",
       "      <td>True</td>\n",
       "      <td>False</td>\n",
       "      <td>False</td>\n",
       "      <td>False</td>\n",
       "    </tr>\n",
       "    <tr>\n",
       "      <th>4</th>\n",
       "      <td>Tom Clancy's Rainbow Six Siege</td>\n",
       "      <td>750</td>\n",
       "      <td>nao</td>\n",
       "      <td>10014240</td>\n",
       "      <td>19.99</td>\n",
       "      <td>12</td>\n",
       "      <td>820</td>\n",
       "      <td>True</td>\n",
       "      <td>False</td>\n",
       "      <td>True</td>\n",
       "      <td>...</td>\n",
       "      <td>False</td>\n",
       "      <td>False</td>\n",
       "      <td>False</td>\n",
       "      <td>False</td>\n",
       "      <td>False</td>\n",
       "      <td>False</td>\n",
       "      <td>True</td>\n",
       "      <td>False</td>\n",
       "      <td>True</td>\n",
       "      <td>False</td>\n",
       "    </tr>\n",
       "  </tbody>\n",
       "</table>\n",
       "<p>5 rows × 41 columns</p>\n",
       "</div>"
      ],
      "text/plain": [
       "                               Name  Metacritic Indie  Presence  OriginalCost  \\\n",
       "0  Counter-Strike: Global Offensive         830   nao  10095880          0.00   \n",
       "1                         Destiny 2         820   nao  10074250          0.00   \n",
       "2          The Elder Scrolls Online         710   nao  10007810         19.99   \n",
       "3                    Sea of Thieves         680   nao   7774560         39.99   \n",
       "4    Tom Clancy's Rainbow Six Siege         750   nao  10014240         19.99   \n",
       "\n",
       "   Languages  Achievements  Multiplayer    PVP  Coop  ...  Nintendo 3DS  \\\n",
       "0         23          1790         True   True  True  ...         False   \n",
       "1          8           610         True  False  True  ...         False   \n",
       "2          4             0         True  False  True  ...         False   \n",
       "3          5          3080         True   True  True  ...         False   \n",
       "4         12           820         True  False  True  ...         False   \n",
       "\n",
       "   GameCube   SNES  PS Vita  Nintendo DS  PlayStation 2   Xbox    Wii  \\\n",
       "0     False  False    False        False          False   True  False   \n",
       "1     False  False    False        False          False   True  False   \n",
       "2     False  False    False        False          False  False  False   \n",
       "3     False  False    False        False          False   True  False   \n",
       "4     False  False    False        False          False   True  False   \n",
       "\n",
       "   PlayStation  Dreamcast  \n",
       "0         True      False  \n",
       "1         True      False  \n",
       "2        False      False  \n",
       "3        False      False  \n",
       "4         True      False  \n",
       "\n",
       "[5 rows x 41 columns]"
      ]
     },
     "execution_count": 135,
     "metadata": {},
     "output_type": "execute_result"
    }
   ],
   "source": [
    "jogos_Train.head(5)"
   ]
  },
  {
   "cell_type": "code",
   "execution_count": 136,
   "metadata": {},
   "outputs": [
    {
     "data": {
      "text/plain": [
       "<BarContainer object of 1263 artists>"
      ]
     },
     "execution_count": 136,
     "metadata": {},
     "output_type": "execute_result"
    },
    {
     "data": {
      "image/png": "[encoded data removed]",
      "text/plain": [
       "<Figure size 432x288 with 1 Axes>"
      ]
     },
     "metadata": {
      "needs_background": "light"
     },
     "output_type": "display_data"
    }
   ],
   "source": [
    "plt.bar(jogos_Train['Metacritic'],jogos_Train['Action'])"
   ]
  },
  {
   "cell_type": "code",
   "execution_count": null,
   "metadata": {},
   "outputs": [],
   "source": []
  }
 ],
 "metadata": {
  "kernelspec": {
   "display_name": "Python 3",
   "language": "python",
   "name": "python3"
  },
  "language_info": {
   "codemirror_mode": {
    "name": "ipython",
    "version": 3
   },
   "file_extension": ".py",
   "mimetype": "text/x-python",
   "name": "python",
   "nbconvert_exporter": "python",
   "pygments_lexer": "ipython3",
   "version": "3.7.6"
  }
 },
 "nbformat": 4,
 "nbformat_minor": 4
}
