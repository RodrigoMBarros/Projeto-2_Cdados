{
 "cells": [
  {
   "cell_type": "code",
   "execution_count": 0,
   "metadata": {
    "collapsed": false
   },
   "outputs": [
   ],
   "source": [
   ]
  },
  {
   "cell_type": "markdown",
   "metadata": {
    "collapsed": false
   },
   "source": [
    "# Projeto 2 - Ciência dos Dados 2020.2"
   ]
  },
  {
   "cell_type": "markdown",
   "metadata": {
    "collapsed": false
   },
   "source": [
    "**Participantes**\n",
    "\n",
    "- Enrico Lopez Borges de Carvalho\n",
    "\n",
    "- Luana Mitsudo Coelho\n",
    "\n",
    "- Luiza Valezim Augusto Pinto\n",
    "\n",
    "- Rodrigo Carvalho Monteiro de Barros"
   ]
  },
  {
   "cell_type": "markdown",
   "metadata": {
    "collapsed": false
   },
   "source": [
    "## Introdução\n",
    "\n",
    "Em nosso trabalho do Projeto 2, decidimos tentar prever a nota de diversos jogos levando em consideração suas características principais (como seu preço, seu gênero, entre outros) e compará-las com as notas já existentes disponíveis no site *Metacritic*, o qual é muito conhecido por suas avaliações. Para isso, obtivemos nosso datasheet do site *Kaggle* em forma de Excel, e selecionamos somente àquelas colunas de características que acreditamos ter mais influêcia no resultado de sua nota final. Dessa forma, utilizamos o método **INSERIR O NOME DO MÉTODO QUE IREMOS UTILIZAR**, o qual (...)"
   ]
  },
  {
   "cell_type": "markdown",
   "metadata": {
    "collapsed": false
   },
   "source": [
    "## Desenvolvimento"
   ]
  },
  {
   "cell_type": "markdown",
   "metadata": {
    "collapsed": false
   },
   "source": [
    "**Carregando as bibliotecas**"
   ]
  },
  {
   "cell_type": "code",
   "execution_count": 1,
   "metadata": {
    "collapsed": false
   },
   "outputs": [
   ],
   "source": [
    "%matplotlib inline\n",
    "\n",
    "import pandas as pd\n",
    "import matplotlib.pyplot as plt\n",
    "import numpy as np\n",
    "import os\n",
    "\n",
    "from IPython.display import display"
   ]
  },
  {
   "cell_type": "markdown",
   "metadata": {
    "collapsed": false
   },
   "source": [
    "**Carregando a base de dados dos jogos**"
   ]
  },
  {
   "cell_type": "code",
   "execution_count": 2,
   "metadata": {
    "collapsed": false
   },
   "outputs": [
    {
     "name": "stdout",
     "output_type": "stream",
     "text": [
      "Encontrei o arquivo jogos.xlsx, tudo certo para prosseguir com o projeto!\n"
     ]
    }
   ],
   "source": [
    "filename = 'jogos.xlsx'\n",
    "if filename in os.listdir():\n",
    "    print(f'Encontrei o arquivo {filename}, tudo certo para prosseguir com o projeto!')\n",
    "else:\n",
    "    print(f'Não encontrei o arquivo {filename} aqui no diretório {os.getcwd()} :(')"
   ]
  },
  {
   "cell_type": "markdown",
   "metadata": {
    "collapsed": false
   },
   "source": [
    "**Lendo os arquivos de treinamento e de teste**"
   ]
  },
  {
   "cell_type": "code",
   "execution_count": 3,
   "metadata": {
    "collapsed": false
   },
   "outputs": [
    {
     "data": {
      "text/html": [
       "<div>\n",
       "<style scoped>\n",
       "    .dataframe tbody tr th:only-of-type {\n",
       "        vertical-align: middle;\n",
       "    }\n",
       "\n",
       "    .dataframe tbody tr th {\n",
       "        vertical-align: top;\n",
       "    }\n",
       "\n",
       "    .dataframe thead th {\n",
       "        text-align: right;\n",
       "    }\n",
       "</style>\n",
       "<table border=\"1\" class=\"dataframe\">\n",
       "  <thead>\n",
       "    <tr style=\"text-align: right;\">\n",
       "      <th></th>\n",
       "      <th>Name</th>\n",
       "      <th>Metacritic</th>\n",
       "      <th>Genres</th>\n",
       "      <th>Indie</th>\n",
       "      <th>Presence</th>\n",
       "      <th>Platform</th>\n",
       "      <th>OriginalCost</th>\n",
       "      <th>Players</th>\n",
       "      <th>Languages</th>\n",
       "      <th>Achievements</th>\n",
       "    </tr>\n",
       "  </thead>\n",
       "  <tbody>\n",
       "    <tr>\n",
       "      <th>0</th>\n",
       "      <td>Counter-Strike: Global Offensive</td>\n",
       "      <td>830</td>\n",
       "      <td>Action, Free to Play</td>\n",
       "      <td>nao</td>\n",
       "      <td>10095880</td>\n",
       "      <td>PC, Xbox 360, PlayStation 3</td>\n",
       "      <td>0.00</td>\n",
       "      <td>multiplayer, pvp, coop, online coop</td>\n",
       "      <td>English, Czech, Danish, Dutch, Finnish, French...</td>\n",
       "      <td>1790</td>\n",
       "    </tr>\n",
       "    <tr>\n",
       "      <th>1</th>\n",
       "      <td>Destiny 2</td>\n",
       "      <td>820</td>\n",
       "      <td>Action, Adventure, Free to Play</td>\n",
       "      <td>nao</td>\n",
       "      <td>10074250</td>\n",
       "      <td>PlayStation 5, Web, Xbox Series X, PC, Xbox On...</td>\n",
       "      <td>0.00</td>\n",
       "      <td>multiplayer, coop, online coop</td>\n",
       "      <td>English, French, Italian, German, Japanese, Ko...</td>\n",
       "      <td>610</td>\n",
       "    </tr>\n",
       "    <tr>\n",
       "      <th>2</th>\n",
       "      <td>The Elder Scrolls Online</td>\n",
       "      <td>710</td>\n",
       "      <td>Massively Multiplayer, RPG</td>\n",
       "      <td>nao</td>\n",
       "      <td>10007810</td>\n",
       "      <td>PC</td>\n",
       "      <td>19.99</td>\n",
       "      <td>singleplayer, multiplayer, coop</td>\n",
       "      <td>English, French, German, Russian</td>\n",
       "      <td>0</td>\n",
       "    </tr>\n",
       "    <tr>\n",
       "      <th>3</th>\n",
       "      <td>Sea of Thieves</td>\n",
       "      <td>680</td>\n",
       "      <td>Action, Adventure</td>\n",
       "      <td>nao</td>\n",
       "      <td>7774560</td>\n",
       "      <td>PC, Xbox One</td>\n",
       "      <td>39.99</td>\n",
       "      <td>multiplayer, pvp, coop, online coop</td>\n",
       "      <td>English, French, Italian, German, Russian</td>\n",
       "      <td>3080</td>\n",
       "    </tr>\n",
       "    <tr>\n",
       "      <th>4</th>\n",
       "      <td>Tom Clancy's Rainbow Six Siege</td>\n",
       "      <td>750</td>\n",
       "      <td>Action</td>\n",
       "      <td>nao</td>\n",
       "      <td>10014240</td>\n",
       "      <td>PlayStation 4, PC, Xbox One</td>\n",
       "      <td>19.99</td>\n",
       "      <td>singleplayer, multiplayer, coop, online coop</td>\n",
       "      <td>English, French, Italian, German, Czech, Dutch...</td>\n",
       "      <td>820</td>\n",
       "    </tr>\n",
       "  </tbody>\n",
       "</table>\n",
       "</div>"
      ],
      "text/plain": [
       "                               Name  Metacritic  \\\n",
       "0  Counter-Strike: Global Offensive         830   \n",
       "1                         Destiny 2         820   \n",
       "2          The Elder Scrolls Online         710   \n",
       "3                    Sea of Thieves         680   \n",
       "4    Tom Clancy's Rainbow Six Siege         750   \n",
       "\n",
       "                            Genres Indie  Presence  \\\n",
       "0             Action, Free to Play   nao  10095880   \n",
       "1  Action, Adventure, Free to Play   nao  10074250   \n",
       "2       Massively Multiplayer, RPG   nao  10007810   \n",
       "3                Action, Adventure   nao   7774560   \n",
       "4                           Action   nao  10014240   \n",
       "\n",
       "                                            Platform  OriginalCost  \\\n",
       "0                        PC, Xbox 360, PlayStation 3          0.00   \n",
       "1  PlayStation 5, Web, Xbox Series X, PC, Xbox On...          0.00   \n",
       "2                                                 PC         19.99   \n",
       "3                                       PC, Xbox One         39.99   \n",
       "4                        PlayStation 4, PC, Xbox One         19.99   \n",
       "\n",
       "                                        Players  \\\n",
       "0           multiplayer, pvp, coop, online coop   \n",
       "1                multiplayer, coop, online coop   \n",
       "2               singleplayer, multiplayer, coop   \n",
       "3           multiplayer, pvp, coop, online coop   \n",
       "4  singleplayer, multiplayer, coop, online coop   \n",
       "\n",
       "                                           Languages  Achievements  \n",
       "0  English, Czech, Danish, Dutch, Finnish, French...          1790  \n",
       "1  English, French, Italian, German, Japanese, Ko...           610  \n",
       "2                   English, French, German, Russian             0  \n",
       "3          English, French, Italian, German, Russian          3080  \n",
       "4  English, French, Italian, German, Czech, Dutch...           820  "
      ]
     },
     "execution_count": 3,
     "metadata": {
     },
     "output_type": "execute_result"
    }
   ],
   "source": [
    "jogos_Train = pd.read_excel(filename)\n",
    "jogos_Train[\"Indie\"] =jogos_Train[\"Indie\"].astype('category')\n",
    "jogos_Train.Indie.cat.categories = [\"nao\",\"sim\"]\n",
    "\n",
    "jogos_Train.Languages=jogos_Train.Languages.astype(\"str\")\n",
    "jogos_Train.Platform=jogos_Train.Platform.astype(\"str\")\n",
    "jogos_Train.Genres=jogos_Train.Genres.astype(\"str\")\n",
    "jogos_Train.head(5)"
   ]
  },
  {
   "cell_type": "code",
   "execution_count": 4,
   "metadata": {
    "collapsed": false
   },
   "outputs": [
   ],
   "source": [
    "jogos_test=pd.read_excel(filename,sheet_name = 'test')\n",
    "#jogos_test.head(5)"
   ]
  },
  {
   "cell_type": "markdown",
   "metadata": {
    "collapsed": false
   },
   "source": [
    "### Gráficos"
   ]
  },
  {
   "cell_type": "markdown",
   "metadata": {
    "collapsed": false
   },
   "source": [
    "**Quantidade por faixa de preço**"
   ]
  },
  {
   "cell_type": "code",
   "execution_count": 5,
   "metadata": {
    "collapsed": false
   },
   "outputs": [
    {
     "data": {
      "text/plain": [
       "Text(0.5, 1.0, 'Quantidade de jogos por preço do jogo na data de lançamento ')"
      ]
     },
     "execution_count": 5,
     "metadata": {
     },
     "output_type": "execute_result"
    },
    {
     "data": {
      "image/png": "[encoded data removed]",
      "text/plain": [
       "<Figure size 1296x360 with 1 Axes>"
      ]
     },
     "execution_count": 5,
     "metadata": {
      "image/png": {
       "height": 331,
       "width": 510
      },
      "needs_background": "light"
     },
     "output_type": "execute_result"
    }
   ],
   "source": [
    "preco_inicial=jogos_Train.OriginalCost\n",
    "\n",
    "faixas = np.arange(0,65,5)\n",
    "\n",
    "plt.figure(figsize=(18, 5))\n",
    "\n",
    "plt.subplot(121)\n",
    "plt.hist(preco_inicial, bins=faixas,color='blue', edgecolor='white')\n",
    "plt.ylabel('quantidade')\n",
    "plt.xlabel('preços')\n",
    "plt.title('Quantidade de jogos por preço do jogo na data de lançamento ')"
   ]
  },
  {
   "cell_type": "markdown",
   "metadata": {
    "collapsed": false
   },
   "source": [
    "**Quantidade por classificação se é indie ou não**"
   ]
  },
  {
   "cell_type": "code",
   "execution_count": 6,
   "metadata": {
    "collapsed": false
   },
   "outputs": [
    {
     "data": {
      "text/plain": [
       "Text(0.5, 1.0, 'Quantidade de jogos por classificação se é indie ou não')"
      ]
     },
     "execution_count": 6,
     "metadata": {
     },
     "output_type": "execute_result"
    },
    {
     "data": {
      "image/png": "[encoded data removed]",
      "text/plain": [
       "<Figure size 360x288 with 1 Axes>"
      ]
     },
     "execution_count": 6,
     "metadata": {
      "image/png": {
       "height": 278,
       "width": 360
      },
      "needs_background": "light"
     },
     "output_type": "execute_result"
    }
   ],
   "source": [
    "jogos_indie =jogos_Train.Indie\n",
    "\n",
    "plt.figure(figsize=(5, 4))\n",
    "\n",
    "plt.hist(jogos_indie,color='blue', edgecolor='white')\n",
    "plt.ylabel('quantidade')\n",
    "plt.xlabel('sim ou não')\n",
    "plt.title('Quantidade de jogos por classificação se é indie ou não')"
   ]
  },
  {
   "cell_type": "markdown",
   "metadata": {
    "collapsed": false
   },
   "source": [
    "**Quantidade por número de vezes mencionado em redes sociais (presença/relevância)**"
   ]
  },
  {
   "cell_type": "code",
   "execution_count": 7,
   "metadata": {
    "collapsed": false
   },
   "outputs": [
    {
     "data": {
      "text/plain": [
       "Text(0.5, 1.0, 'Quantidade de jogos por número de vezes mencionados em redes sociais')"
      ]
     },
     "execution_count": 7,
     "metadata": {
     },
     "output_type": "execute_result"
    },
    {
     "data": {
      "image/png": "[encoded data removed]",
      "text/plain": [
       "<Figure size 1296x360 with 1 Axes>"
      ]
     },
     "execution_count": 7,
     "metadata": {
      "image/png": {
       "height": 332,
       "width": 510
      },
      "needs_background": "light"
     },
     "output_type": "execute_result"
    }
   ],
   "source": [
    "Presence_inicial=jogos_Train.Presence\n",
    "\n",
    "faixas_Presence = np.linspace(Presence_inicial.min(),Presence_inicial.max(),100)\n",
    "\n",
    "plt.figure(figsize=(18, 5))\n",
    "\n",
    "plt.subplot(121)\n",
    "plt.hist(Presence_inicial, bins=faixas_Presence, color='green', edgecolor='white')\n",
    "plt.ylabel('quantidade')\n",
    "plt.xlabel('presença')\n",
    "plt.title('Quantidade de jogos por número de vezes mencionados em redes sociais')"
   ]
  },
  {
   "cell_type": "markdown",
   "metadata": {
    "collapsed": false
   },
   "source": [
    "**Quantidade por nota do Metacritic**"
   ]
  },
  {
   "cell_type": "code",
   "execution_count": 8,
   "metadata": {
    "collapsed": false
   },
   "outputs": [
    {
     "data": {
      "text/plain": [
       "Text(0.5, 1.0, 'Quantidade de jogos por nota do Metacritic')"
      ]
     },
     "execution_count": 8,
     "metadata": {
     },
     "output_type": "execute_result"
    },
    {
     "data": {
      "image/png": "[encoded data removed]",
      "text/plain": [
       "<Figure size 1296x360 with 1 Axes>"
      ]
     },
     "execution_count": 8,
     "metadata": {
      "image/png": {
       "height": 331,
       "width": 515
      },
      "needs_background": "light"
     },
     "output_type": "execute_result"
    }
   ],
   "source": [
    "metacritic_inicial=jogos_Train.Metacritic\n",
    "\n",
    "faixas_metacritic = np.linspace(metacritic_inicial.min(),metacritic_inicial.max(),100)\n",
    "\n",
    "plt.figure(figsize=(18, 5))\n",
    "\n",
    "plt.subplot(121)\n",
    "plt.hist(metacritic_inicial, bins=faixas_metacritic,color='blue', edgecolor='white')\n",
    "plt.ylabel('quantidade')\n",
    "plt.xlabel('nota do metacritic')\n",
    "plt.title('Quantidade de jogos por nota do Metacritic')"
   ]
  },
  {
   "cell_type": "markdown",
   "metadata": {
    "collapsed": false
   },
   "source": [
    "**Nota do Metacritic por preço na data de lançamento**"
   ]
  },
  {
   "cell_type": "code",
   "execution_count": 9,
   "metadata": {
    "collapsed": false
   },
   "outputs": [
    {
     "data": {
      "text/plain": [
       "Text(0, 0.5, 'nota do metacritic')"
      ]
     },
     "execution_count": 9,
     "metadata": {
     },
     "output_type": "execute_result"
    },
    {
     "data": {
      "image/png": "[encoded data removed]",
      "text/plain": [
       "<Figure size 432x288 with 1 Axes>"
      ]
     },
     "execution_count": 9,
     "metadata": {
      "image/png": {
       "height": 277,
       "width": 395
      },
      "needs_background": "light"
     },
     "output_type": "execute_result"
    }
   ],
   "source": [
    "plt.scatter(jogos_Train.OriginalCost,jogos_Train.Metacritic, c='red', alpha=0.1)\n",
    "plt.title('Nota de Metacritic por preço')\n",
    "plt.xlabel('preço original (dólar americano)')\n",
    "plt.ylabel('nota do metacritic')"
   ]
  },
  {
   "cell_type": "code",
   "execution_count": 10,
   "metadata": {
    "collapsed": false
   },
   "outputs": [
    {
     "data": {
      "text/html": [
       "<div>\n",
       "<style scoped>\n",
       "    .dataframe tbody tr th:only-of-type {\n",
       "        vertical-align: middle;\n",
       "    }\n",
       "\n",
       "    .dataframe tbody tr th {\n",
       "        vertical-align: top;\n",
       "    }\n",
       "\n",
       "    .dataframe thead th {\n",
       "        text-align: right;\n",
       "    }\n",
       "</style>\n",
       "<table border=\"1\" class=\"dataframe\">\n",
       "  <thead>\n",
       "    <tr style=\"text-align: right;\">\n",
       "      <th></th>\n",
       "      <th>Name</th>\n",
       "      <th>Metacritic</th>\n",
       "      <th>Genres</th>\n",
       "      <th>Indie</th>\n",
       "      <th>Presence</th>\n",
       "      <th>Platform</th>\n",
       "      <th>OriginalCost</th>\n",
       "      <th>Players</th>\n",
       "      <th>Languages</th>\n",
       "      <th>Achievements</th>\n",
       "    </tr>\n",
       "  </thead>\n",
       "  <tbody>\n",
       "    <tr>\n",
       "      <th>0</th>\n",
       "      <td>Counter-Strike: Global Offensive</td>\n",
       "      <td>830</td>\n",
       "      <td>Action, Free to Play</td>\n",
       "      <td>nao</td>\n",
       "      <td>10095880</td>\n",
       "      <td>PC, Xbox 360, PlayStation 3</td>\n",
       "      <td>0.00</td>\n",
       "      <td>multiplayer, pvp, coop, online coop</td>\n",
       "      <td>English, Czech, Danish, Dutch, Finnish, French...</td>\n",
       "      <td>1790</td>\n",
       "    </tr>\n",
       "    <tr>\n",
       "      <th>1</th>\n",
       "      <td>Destiny 2</td>\n",
       "      <td>820</td>\n",
       "      <td>Action, Adventure, Free to Play</td>\n",
       "      <td>nao</td>\n",
       "      <td>10074250</td>\n",
       "      <td>PlayStation 5, Web, Xbox Series X, PC, Xbox On...</td>\n",
       "      <td>0.00</td>\n",
       "      <td>multiplayer, coop, online coop</td>\n",
       "      <td>English, French, Italian, German, Japanese, Ko...</td>\n",
       "      <td>610</td>\n",
       "    </tr>\n",
       "    <tr>\n",
       "      <th>2</th>\n",
       "      <td>The Elder Scrolls Online</td>\n",
       "      <td>710</td>\n",
       "      <td>Massively Multiplayer, RPG</td>\n",
       "      <td>nao</td>\n",
       "      <td>10007810</td>\n",
       "      <td>PC</td>\n",
       "      <td>19.99</td>\n",
       "      <td>singleplayer, multiplayer, coop</td>\n",
       "      <td>English, French, German, Russian</td>\n",
       "      <td>0</td>\n",
       "    </tr>\n",
       "    <tr>\n",
       "      <th>3</th>\n",
       "      <td>Sea of Thieves</td>\n",
       "      <td>680</td>\n",
       "      <td>Action, Adventure</td>\n",
       "      <td>nao</td>\n",
       "      <td>7774560</td>\n",
       "      <td>PC, Xbox One</td>\n",
       "      <td>39.99</td>\n",
       "      <td>multiplayer, pvp, coop, online coop</td>\n",
       "      <td>English, French, Italian, German, Russian</td>\n",
       "      <td>3080</td>\n",
       "    </tr>\n",
       "    <tr>\n",
       "      <th>4</th>\n",
       "      <td>Tom Clancy's Rainbow Six Siege</td>\n",
       "      <td>750</td>\n",
       "      <td>Action</td>\n",
       "      <td>nao</td>\n",
       "      <td>10014240</td>\n",
       "      <td>PlayStation 4, PC, Xbox One</td>\n",
       "      <td>19.99</td>\n",
       "      <td>singleplayer, multiplayer, coop, online coop</td>\n",
       "      <td>English, French, Italian, German, Czech, Dutch...</td>\n",
       "      <td>820</td>\n",
       "    </tr>\n",
       "  </tbody>\n",
       "</table>\n",
       "</div>"
      ],
      "text/plain": [
       "                               Name  Metacritic  \\\n",
       "0  Counter-Strike: Global Offensive         830   \n",
       "1                         Destiny 2         820   \n",
       "2          The Elder Scrolls Online         710   \n",
       "3                    Sea of Thieves         680   \n",
       "4    Tom Clancy's Rainbow Six Siege         750   \n",
       "\n",
       "                            Genres Indie  Presence  \\\n",
       "0             Action, Free to Play   nao  10095880   \n",
       "1  Action, Adventure, Free to Play   nao  10074250   \n",
       "2       Massively Multiplayer, RPG   nao  10007810   \n",
       "3                Action, Adventure   nao   7774560   \n",
       "4                           Action   nao  10014240   \n",
       "\n",
       "                                            Platform  OriginalCost  \\\n",
       "0                        PC, Xbox 360, PlayStation 3          0.00   \n",
       "1  PlayStation 5, Web, Xbox Series X, PC, Xbox On...          0.00   \n",
       "2                                                 PC         19.99   \n",
       "3                                       PC, Xbox One         39.99   \n",
       "4                        PlayStation 4, PC, Xbox One         19.99   \n",
       "\n",
       "                                        Players  \\\n",
       "0           multiplayer, pvp, coop, online coop   \n",
       "1                multiplayer, coop, online coop   \n",
       "2               singleplayer, multiplayer, coop   \n",
       "3           multiplayer, pvp, coop, online coop   \n",
       "4  singleplayer, multiplayer, coop, online coop   \n",
       "\n",
       "                                           Languages  Achievements  \n",
       "0  English, Czech, Danish, Dutch, Finnish, French...          1790  \n",
       "1  English, French, Italian, German, Japanese, Ko...           610  \n",
       "2                   English, French, German, Russian             0  \n",
       "3          English, French, Italian, German, Russian          3080  \n",
       "4  English, French, Italian, German, Czech, Dutch...           820  "
      ]
     },
     "execution_count": 10,
     "metadata": {
     },
     "output_type": "execute_result"
    }
   ],
   "source": [
    "jogos_Train.head()"
   ]
  },
  {
   "cell_type": "code",
   "execution_count": 11,
   "metadata": {
    "collapsed": false
   },
   "outputs": [
   ],
   "source": [
    "filtrom=jogos_Train.Players.str.contains(\"multiplayer\")\n",
    "filtropv=jogos_Train.Players.str.contains(\"pvp\")\n",
    "filtroco=jogos_Train.Players.str.contains(\"coop\")\n",
    "filtroc=jogos_Train.Players.str.contains(\"online coop\")\n",
    "filtrosi=jogos_Train.Players.str.contains(\"singleplayer\")\n",
    "\n",
    "jogos_Train.loc[filtrom,\"Multiplayer\"]=filtrom\n",
    "jogos_Train.loc[filtropv,\"PVP\"]=filtropv\n",
    "jogos_Train.loc[filtroco,\"Coop\"]=filtroco\n",
    "jogos_Train.loc[filtroc,\"Online Coop\"]=filtroc\n",
    "jogos_Train.loc[filtrosi,\"Singleplayer\"]=filtrosi\n",
    "\n"
   ]
  },
  {
   "cell_type": "code",
   "execution_count": 12,
   "metadata": {
    "collapsed": false
   },
   "outputs": [
    {
     "data": {
      "text/html": [
       "<div>\n",
       "<style scoped>\n",
       "    .dataframe tbody tr th:only-of-type {\n",
       "        vertical-align: middle;\n",
       "    }\n",
       "\n",
       "    .dataframe tbody tr th {\n",
       "        vertical-align: top;\n",
       "    }\n",
       "\n",
       "    .dataframe thead th {\n",
       "        text-align: right;\n",
       "    }\n",
       "</style>\n",
       "<table border=\"1\" class=\"dataframe\">\n",
       "  <thead>\n",
       "    <tr style=\"text-align: right;\">\n",
       "      <th></th>\n",
       "      <th>Name</th>\n",
       "      <th>Metacritic</th>\n",
       "      <th>Genres</th>\n",
       "      <th>Indie</th>\n",
       "      <th>Presence</th>\n",
       "      <th>Platform</th>\n",
       "      <th>OriginalCost</th>\n",
       "      <th>Players</th>\n",
       "      <th>Languages</th>\n",
       "      <th>Achievements</th>\n",
       "      <th>Multiplayer</th>\n",
       "      <th>PVP</th>\n",
       "      <th>Coop</th>\n",
       "      <th>Online Coop</th>\n",
       "      <th>Singleplayer</th>\n",
       "    </tr>\n",
       "  </thead>\n",
       "  <tbody>\n",
       "    <tr>\n",
       "      <th>0</th>\n",
       "      <td>Counter-Strike: Global Offensive</td>\n",
       "      <td>830</td>\n",
       "      <td>Action, Free to Play</td>\n",
       "      <td>nao</td>\n",
       "      <td>10095880</td>\n",
       "      <td>PC, Xbox 360, PlayStation 3</td>\n",
       "      <td>0.00</td>\n",
       "      <td>multiplayer, pvp, coop, online coop</td>\n",
       "      <td>English, Czech, Danish, Dutch, Finnish, French...</td>\n",
       "      <td>1790</td>\n",
       "      <td>True</td>\n",
       "      <td>True</td>\n",
       "      <td>True</td>\n",
       "      <td>True</td>\n",
       "      <td>NaN</td>\n",
       "    </tr>\n",
       "    <tr>\n",
       "      <th>1</th>\n",
       "      <td>Destiny 2</td>\n",
       "      <td>820</td>\n",
       "      <td>Action, Adventure, Free to Play</td>\n",
       "      <td>nao</td>\n",
       "      <td>10074250</td>\n",
       "      <td>PlayStation 5, Web, Xbox Series X, PC, Xbox On...</td>\n",
       "      <td>0.00</td>\n",
       "      <td>multiplayer, coop, online coop</td>\n",
       "      <td>English, French, Italian, German, Japanese, Ko...</td>\n",
       "      <td>610</td>\n",
       "      <td>True</td>\n",
       "      <td>NaN</td>\n",
       "      <td>True</td>\n",
       "      <td>True</td>\n",
       "      <td>NaN</td>\n",
       "    </tr>\n",
       "    <tr>\n",
       "      <th>2</th>\n",
       "      <td>The Elder Scrolls Online</td>\n",
       "      <td>710</td>\n",
       "      <td>Massively Multiplayer, RPG</td>\n",
       "      <td>nao</td>\n",
       "      <td>10007810</td>\n",
       "      <td>PC</td>\n",
       "      <td>19.99</td>\n",
       "      <td>singleplayer, multiplayer, coop</td>\n",
       "      <td>English, French, German, Russian</td>\n",
       "      <td>0</td>\n",
       "      <td>True</td>\n",
       "      <td>NaN</td>\n",
       "      <td>True</td>\n",
       "      <td>NaN</td>\n",
       "      <td>True</td>\n",
       "    </tr>\n",
       "    <tr>\n",
       "      <th>3</th>\n",
       "      <td>Sea of Thieves</td>\n",
       "      <td>680</td>\n",
       "      <td>Action, Adventure</td>\n",
       "      <td>nao</td>\n",
       "      <td>7774560</td>\n",
       "      <td>PC, Xbox One</td>\n",
       "      <td>39.99</td>\n",
       "      <td>multiplayer, pvp, coop, online coop</td>\n",
       "      <td>English, French, Italian, German, Russian</td>\n",
       "      <td>3080</td>\n",
       "      <td>True</td>\n",
       "      <td>True</td>\n",
       "      <td>True</td>\n",
       "      <td>True</td>\n",
       "      <td>NaN</td>\n",
       "    </tr>\n",
       "    <tr>\n",
       "      <th>4</th>\n",
       "      <td>Tom Clancy's Rainbow Six Siege</td>\n",
       "      <td>750</td>\n",
       "      <td>Action</td>\n",
       "      <td>nao</td>\n",
       "      <td>10014240</td>\n",
       "      <td>PlayStation 4, PC, Xbox One</td>\n",
       "      <td>19.99</td>\n",
       "      <td>singleplayer, multiplayer, coop, online coop</td>\n",
       "      <td>English, French, Italian, German, Czech, Dutch...</td>\n",
       "      <td>820</td>\n",
       "      <td>True</td>\n",
       "      <td>NaN</td>\n",
       "      <td>True</td>\n",
       "      <td>True</td>\n",
       "      <td>True</td>\n",
       "    </tr>\n",
       "  </tbody>\n",
       "</table>\n",
       "</div>"
      ],
      "text/plain": [
       "                               Name  Metacritic  \\\n",
       "0  Counter-Strike: Global Offensive         830   \n",
       "1                         Destiny 2         820   \n",
       "2          The Elder Scrolls Online         710   \n",
       "3                    Sea of Thieves         680   \n",
       "4    Tom Clancy's Rainbow Six Siege         750   \n",
       "\n",
       "                            Genres Indie  Presence  \\\n",
       "0             Action, Free to Play   nao  10095880   \n",
       "1  Action, Adventure, Free to Play   nao  10074250   \n",
       "2       Massively Multiplayer, RPG   nao  10007810   \n",
       "3                Action, Adventure   nao   7774560   \n",
       "4                           Action   nao  10014240   \n",
       "\n",
       "                                            Platform  OriginalCost  \\\n",
       "0                        PC, Xbox 360, PlayStation 3          0.00   \n",
       "1  PlayStation 5, Web, Xbox Series X, PC, Xbox On...          0.00   \n",
       "2                                                 PC         19.99   \n",
       "3                                       PC, Xbox One         39.99   \n",
       "4                        PlayStation 4, PC, Xbox One         19.99   \n",
       "\n",
       "                                        Players  \\\n",
       "0           multiplayer, pvp, coop, online coop   \n",
       "1                multiplayer, coop, online coop   \n",
       "2               singleplayer, multiplayer, coop   \n",
       "3           multiplayer, pvp, coop, online coop   \n",
       "4  singleplayer, multiplayer, coop, online coop   \n",
       "\n",
       "                                           Languages  Achievements  \\\n",
       "0  English, Czech, Danish, Dutch, Finnish, French...          1790   \n",
       "1  English, French, Italian, German, Japanese, Ko...           610   \n",
       "2                   English, French, German, Russian             0   \n",
       "3          English, French, Italian, German, Russian          3080   \n",
       "4  English, French, Italian, German, Czech, Dutch...           820   \n",
       "\n",
       "  Multiplayer   PVP  Coop Online Coop Singleplayer  \n",
       "0        True  True  True        True          NaN  \n",
       "1        True   NaN  True        True          NaN  \n",
       "2        True   NaN  True         NaN         True  \n",
       "3        True  True  True        True          NaN  \n",
       "4        True   NaN  True        True         True  "
      ]
     },
     "execution_count": 12,
     "metadata": {
     },
     "output_type": "execute_result"
    }
   ],
   "source": [
    "jogos_Train.head(5)"
   ]
  },
  {
   "cell_type": "code",
   "execution_count": 13,
   "metadata": {
    "collapsed": false,
    "scrolled": true
   },
   "outputs": [
   ],
   "source": [
    "lista=[]\n",
    "\n",
    "for eli in jogos_Train.Languages:\n",
    "\n",
    "    a=len(eli.split(\",\"))\n",
    "    lista.append(a)\n",
    "jogos_Train.insert(15,\"quant_l\",lista)\n"
   ]
  },
  {
   "cell_type": "code",
   "execution_count": 14,
   "metadata": {
    "collapsed": false
   },
   "outputs": [
   ],
   "source": [
    "del jogos_Train[\"Languages\"]"
   ]
  },
  {
   "cell_type": "code",
   "execution_count": 15,
   "metadata": {
    "collapsed": false
   },
   "outputs": [
    {
     "name": "stdout",
     "output_type": "stream",
     "text": [
      "['Action', 'Massively Multiplayer', 'Strategy', 'Racing', 'RPG', 'Simulation', 'Casual', 'Adventure', 'Indie', 'Sports', 'Free to Play']\n"
     ]
    }
   ],
   "source": [
    "textog=\",\".join(jogos_Train.Genres)\n",
    "textog=textog.split(\",\")\n",
    "lista_gen=[]\n",
    "for el in textog:\n",
    "    if el not in lista_gen and el[0]!=\" \":\n",
    "        lista_gen.append(el)\n",
    "print(lista_gen)\n",
    "\n",
    "\n"
   ]
  },
  {
   "cell_type": "code",
   "execution_count": 0,
   "metadata": {
    "collapsed": false
   },
   "outputs": [
   ],
   "source": [
   ]
  },
  {
   "cell_type": "code",
   "execution_count": 16,
   "metadata": {
    "collapsed": false
   },
   "outputs": [
    {
     "name": "stdout",
     "output_type": "stream",
     "text": [
      "['PC', 'PlayStation 5', 'PlayStation 4', 'Linux', 'Xbox One', 'macOS', 'Android', 'iOS', 'Nintendo Switch', 'PlayStation 3', 'Xbox 360', 'Nintendo 3DS', 'GameCube', 'SNES', 'PS Vita', 'Nintendo DS', 'PlayStation 2', 'Xbox', 'Wii', 'PlayStation', 'Dreamcast']\n"
     ]
    }
   ],
   "source": [
    "textplat=\",\".join(jogos_Train.Platform)\n",
    "textplat=textplat.split(\",\")\n",
    "lista_plat=[]\n",
    "for el in textplat:\n",
    "    if el not in lista_plat and el[0]!=\" \":\n",
    "        lista_plat.append(el)\n",
    "print(lista_plat)"
   ]
  },
  {
   "cell_type": "code",
   "execution_count": 17,
   "metadata": {
    "collapsed": false
   },
   "outputs": [
    {
     "ename": "ValueError",
     "evalue": "Cannot setitem on a Categorical with a new category, set the categories first",
     "output_type": "error",
     "traceback": [
      "\u001b[0;31m---------------------------------------------------------------------------\u001b[0m",
      "\u001b[0;31mValueError\u001b[0m                                Traceback (most recent call last)",
      "\u001b[0;32m<ipython-input-17-9671741b1e9f>\u001b[0m in \u001b[0;36m<module>\u001b[0;34m\u001b[0m\n\u001b[1;32m      1\u001b[0m \u001b[0;32mfor\u001b[0m \u001b[0melem\u001b[0m \u001b[0;32min\u001b[0m \u001b[0mlista_gen\u001b[0m\u001b[0;34m:\u001b[0m\u001b[0;34m\u001b[0m\u001b[0;34m\u001b[0m\u001b[0m\n\u001b[1;32m      2\u001b[0m     \u001b[0mfiltrod\u001b[0m\u001b[0;34m=\u001b[0m\u001b[0mjogos_Train\u001b[0m\u001b[0;34m.\u001b[0m\u001b[0mGenres\u001b[0m\u001b[0;34m.\u001b[0m\u001b[0mstr\u001b[0m\u001b[0;34m.\u001b[0m\u001b[0mcontains\u001b[0m\u001b[0;34m(\u001b[0m\u001b[0;34mf\"{elem}\"\u001b[0m\u001b[0;34m)\u001b[0m\u001b[0;34m\u001b[0m\u001b[0;34m\u001b[0m\u001b[0m\n\u001b[0;32m----> 3\u001b[0;31m     \u001b[0mjogos_Train\u001b[0m\u001b[0;34m.\u001b[0m\u001b[0mloc\u001b[0m\u001b[0;34m[\u001b[0m\u001b[0mfiltrod\u001b[0m\u001b[0;34m,\u001b[0m\u001b[0;34mf\"{elem}\"\u001b[0m\u001b[0;34m]\u001b[0m\u001b[0;34m=\u001b[0m\u001b[0mfiltrod\u001b[0m\u001b[0;34m\u001b[0m\u001b[0;34m\u001b[0m\u001b[0m\n\u001b[0m",
      "\u001b[0;32m/usr/local/lib/python3.8/dist-packages/pandas/core/indexing.py\u001b[0m in \u001b[0;36m__setitem__\u001b[0;34m(self, key, value)\u001b[0m\n\u001b[1;32m    668\u001b[0m \u001b[0;34m\u001b[0m\u001b[0m\n\u001b[1;32m    669\u001b[0m         \u001b[0miloc\u001b[0m \u001b[0;34m=\u001b[0m \u001b[0mself\u001b[0m \u001b[0;32mif\u001b[0m \u001b[0mself\u001b[0m\u001b[0;34m.\u001b[0m\u001b[0mname\u001b[0m \u001b[0;34m==\u001b[0m \u001b[0;34m\"iloc\"\u001b[0m \u001b[0;32melse\u001b[0m \u001b[0mself\u001b[0m\u001b[0;34m.\u001b[0m\u001b[0mobj\u001b[0m\u001b[0;34m.\u001b[0m\u001b[0miloc\u001b[0m\u001b[0;34m\u001b[0m\u001b[0;34m\u001b[0m\u001b[0m\n\u001b[0;32m--> 670\u001b[0;31m         \u001b[0miloc\u001b[0m\u001b[0;34m.\u001b[0m\u001b[0m_setitem_with_indexer\u001b[0m\u001b[0;34m(\u001b[0m\u001b[0mindexer\u001b[0m\u001b[0;34m,\u001b[0m \u001b[0mvalue\u001b[0m\u001b[0;34m)\u001b[0m\u001b[0;34m\u001b[0m\u001b[0;34m\u001b[0m\u001b[0m\n\u001b[0m\u001b[1;32m    671\u001b[0m \u001b[0;34m\u001b[0m\u001b[0m\n\u001b[1;32m    672\u001b[0m     \u001b[0;32mdef\u001b[0m \u001b[0m_validate_key\u001b[0m\u001b[0;34m(\u001b[0m\u001b[0mself\u001b[0m\u001b[0;34m,\u001b[0m \u001b[0mkey\u001b[0m\u001b[0;34m,\u001b[0m \u001b[0maxis\u001b[0m\u001b[0;34m:\u001b[0m \u001b[0mint\u001b[0m\u001b[0;34m)\u001b[0m\u001b[0;34m:\u001b[0m\u001b[0;34m\u001b[0m\u001b[0;34m\u001b[0m\u001b[0m\n",
      "\u001b[0;32m/usr/local/lib/python3.8/dist-packages/pandas/core/indexing.py\u001b[0m in \u001b[0;36m_setitem_with_indexer\u001b[0;34m(self, indexer, value)\u001b[0m\n\u001b[1;32m   1741\u001b[0m                     \u001b[0;31m# we have an equal len list/ndarray\u001b[0m\u001b[0;34m\u001b[0m\u001b[0;34m\u001b[0m\u001b[0;34m\u001b[0m\u001b[0m\n\u001b[1;32m   1742\u001b[0m                     \u001b[0;31m# We only get here with len(labels) == len(ilocs) == 1\u001b[0m\u001b[0;34m\u001b[0m\u001b[0;34m\u001b[0m\u001b[0;34m\u001b[0m\u001b[0m\n\u001b[0;32m-> 1743\u001b[0;31m                     \u001b[0misetter\u001b[0m\u001b[0;34m(\u001b[0m\u001b[0milocs\u001b[0m\u001b[0;34m[\u001b[0m\u001b[0;36m0\u001b[0m\u001b[0;34m]\u001b[0m\u001b[0;34m,\u001b[0m \u001b[0mvalue\u001b[0m\u001b[0;34m)\u001b[0m\u001b[0;34m\u001b[0m\u001b[0;34m\u001b[0m\u001b[0m\n\u001b[0m\u001b[1;32m   1744\u001b[0m \u001b[0;34m\u001b[0m\u001b[0m\n\u001b[1;32m   1745\u001b[0m                 \u001b[0;32melif\u001b[0m \u001b[0mlplane_indexer\u001b[0m \u001b[0;34m==\u001b[0m \u001b[0;36m0\u001b[0m \u001b[0;32mand\u001b[0m \u001b[0mlen\u001b[0m\u001b[0;34m(\u001b[0m\u001b[0mvalue\u001b[0m\u001b[0;34m)\u001b[0m \u001b[0;34m==\u001b[0m \u001b[0mlen\u001b[0m\u001b[0;34m(\u001b[0m\u001b[0mself\u001b[0m\u001b[0;34m.\u001b[0m\u001b[0mobj\u001b[0m\u001b[0;34m.\u001b[0m\u001b[0mindex\u001b[0m\u001b[0;34m)\u001b[0m\u001b[0;34m:\u001b[0m\u001b[0;34m\u001b[0m\u001b[0;34m\u001b[0m\u001b[0m\n",
      "\u001b[0;32m/usr/local/lib/python3.8/dist-packages/pandas/core/indexing.py\u001b[0m in \u001b[0;36misetter\u001b[0;34m(loc, v)\u001b[0m\n\u001b[1;32m   1687\u001b[0m                     \u001b[0;31m# set the item, possibly having a dtype change\u001b[0m\u001b[0;34m\u001b[0m\u001b[0;34m\u001b[0m\u001b[0;34m\u001b[0m\u001b[0m\n\u001b[1;32m   1688\u001b[0m                     \u001b[0mser\u001b[0m \u001b[0;34m=\u001b[0m \u001b[0mser\u001b[0m\u001b[0;34m.\u001b[0m\u001b[0mcopy\u001b[0m\u001b[0;34m(\u001b[0m\u001b[0;34m)\u001b[0m\u001b[0;34m\u001b[0m\u001b[0;34m\u001b[0m\u001b[0m\n\u001b[0;32m-> 1689\u001b[0;31m                     \u001b[0mser\u001b[0m\u001b[0;34m.\u001b[0m\u001b[0m_mgr\u001b[0m \u001b[0;34m=\u001b[0m \u001b[0mser\u001b[0m\u001b[0;34m.\u001b[0m\u001b[0m_mgr\u001b[0m\u001b[0;34m.\u001b[0m\u001b[0msetitem\u001b[0m\u001b[0;34m(\u001b[0m\u001b[0mindexer\u001b[0m\u001b[0;34m=\u001b[0m\u001b[0mplane_indexer\u001b[0m\u001b[0;34m,\u001b[0m \u001b[0mvalue\u001b[0m\u001b[0;34m=\u001b[0m\u001b[0mv\u001b[0m\u001b[0;34m)\u001b[0m\u001b[0;34m\u001b[0m\u001b[0;34m\u001b[0m\u001b[0m\n\u001b[0m\u001b[1;32m   1690\u001b[0m                     \u001b[0mser\u001b[0m\u001b[0;34m.\u001b[0m\u001b[0m_maybe_update_cacher\u001b[0m\u001b[0;34m(\u001b[0m\u001b[0mclear\u001b[0m\u001b[0;34m=\u001b[0m\u001b[0;32mTrue\u001b[0m\u001b[0;34m)\u001b[0m\u001b[0;34m\u001b[0m\u001b[0;34m\u001b[0m\u001b[0m\n\u001b[1;32m   1691\u001b[0m \u001b[0;34m\u001b[0m\u001b[0m\n",
      "\u001b[0;32m/usr/local/lib/python3.8/dist-packages/pandas/core/internals/managers.py\u001b[0m in \u001b[0;36msetitem\u001b[0;34m(self, indexer, value)\u001b[0m\n\u001b[1;32m    532\u001b[0m \u001b[0;34m\u001b[0m\u001b[0m\n\u001b[1;32m    533\u001b[0m     \u001b[0;32mdef\u001b[0m \u001b[0msetitem\u001b[0m\u001b[0;34m(\u001b[0m\u001b[0mself\u001b[0m\u001b[0;34m,\u001b[0m \u001b[0mindexer\u001b[0m\u001b[0;34m,\u001b[0m \u001b[0mvalue\u001b[0m\u001b[0;34m)\u001b[0m \u001b[0;34m->\u001b[0m \u001b[0;34m\"BlockManager\"\u001b[0m\u001b[0;34m:\u001b[0m\u001b[0;34m\u001b[0m\u001b[0;34m\u001b[0m\u001b[0m\n\u001b[0;32m--> 534\u001b[0;31m         \u001b[0;32mreturn\u001b[0m \u001b[0mself\u001b[0m\u001b[0;34m.\u001b[0m\u001b[0mapply\u001b[0m\u001b[0;34m(\u001b[0m\u001b[0;34m\"setitem\"\u001b[0m\u001b[0;34m,\u001b[0m \u001b[0mindexer\u001b[0m\u001b[0;34m=\u001b[0m\u001b[0mindexer\u001b[0m\u001b[0;34m,\u001b[0m \u001b[0mvalue\u001b[0m\u001b[0;34m=\u001b[0m\u001b[0mvalue\u001b[0m\u001b[0;34m)\u001b[0m\u001b[0;34m\u001b[0m\u001b[0;34m\u001b[0m\u001b[0m\n\u001b[0m\u001b[1;32m    535\u001b[0m \u001b[0;34m\u001b[0m\u001b[0m\n\u001b[1;32m    536\u001b[0m     def putmask(\n",
      "\u001b[0;32m/usr/local/lib/python3.8/dist-packages/pandas/core/internals/managers.py\u001b[0m in \u001b[0;36mapply\u001b[0;34m(self, f, align_keys, **kwargs)\u001b[0m\n\u001b[1;32m    404\u001b[0m                 \u001b[0mapplied\u001b[0m \u001b[0;34m=\u001b[0m \u001b[0mb\u001b[0m\u001b[0;34m.\u001b[0m\u001b[0mapply\u001b[0m\u001b[0;34m(\u001b[0m\u001b[0mf\u001b[0m\u001b[0;34m,\u001b[0m \u001b[0;34m**\u001b[0m\u001b[0mkwargs\u001b[0m\u001b[0;34m)\u001b[0m\u001b[0;34m\u001b[0m\u001b[0;34m\u001b[0m\u001b[0m\n\u001b[1;32m    405\u001b[0m             \u001b[0;32melse\u001b[0m\u001b[0;34m:\u001b[0m\u001b[0;34m\u001b[0m\u001b[0;34m\u001b[0m\u001b[0m\n\u001b[0;32m--> 406\u001b[0;31m                 \u001b[0mapplied\u001b[0m \u001b[0;34m=\u001b[0m \u001b[0mgetattr\u001b[0m\u001b[0;34m(\u001b[0m\u001b[0mb\u001b[0m\u001b[0;34m,\u001b[0m \u001b[0mf\u001b[0m\u001b[0;34m)\u001b[0m\u001b[0;34m(\u001b[0m\u001b[0;34m**\u001b[0m\u001b[0mkwargs\u001b[0m\u001b[0;34m)\u001b[0m\u001b[0;34m\u001b[0m\u001b[0;34m\u001b[0m\u001b[0m\n\u001b[0m\u001b[1;32m    407\u001b[0m             \u001b[0mresult_blocks\u001b[0m \u001b[0;34m=\u001b[0m \u001b[0m_extend_blocks\u001b[0m\u001b[0;34m(\u001b[0m\u001b[0mapplied\u001b[0m\u001b[0;34m,\u001b[0m \u001b[0mresult_blocks\u001b[0m\u001b[0;34m)\u001b[0m\u001b[0;34m\u001b[0m\u001b[0;34m\u001b[0m\u001b[0m\n\u001b[1;32m    408\u001b[0m \u001b[0;34m\u001b[0m\u001b[0m\n",
      "\u001b[0;32m/usr/local/lib/python3.8/dist-packages/pandas/core/internals/blocks.py\u001b[0m in \u001b[0;36msetitem\u001b[0;34m(self, indexer, value)\u001b[0m\n\u001b[1;32m   1686\u001b[0m \u001b[0;34m\u001b[0m\u001b[0m\n\u001b[1;32m   1687\u001b[0m         \u001b[0mcheck_setitem_lengths\u001b[0m\u001b[0;34m(\u001b[0m\u001b[0mindexer\u001b[0m\u001b[0;34m,\u001b[0m \u001b[0mvalue\u001b[0m\u001b[0;34m,\u001b[0m \u001b[0mself\u001b[0m\u001b[0;34m.\u001b[0m\u001b[0mvalues\u001b[0m\u001b[0;34m)\u001b[0m\u001b[0;34m\u001b[0m\u001b[0;34m\u001b[0m\u001b[0m\n\u001b[0;32m-> 1688\u001b[0;31m         \u001b[0mself\u001b[0m\u001b[0;34m.\u001b[0m\u001b[0mvalues\u001b[0m\u001b[0;34m[\u001b[0m\u001b[0mindexer\u001b[0m\u001b[0;34m]\u001b[0m \u001b[0;34m=\u001b[0m \u001b[0mvalue\u001b[0m\u001b[0;34m\u001b[0m\u001b[0;34m\u001b[0m\u001b[0m\n\u001b[0m\u001b[1;32m   1689\u001b[0m         \u001b[0;32mreturn\u001b[0m \u001b[0mself\u001b[0m\u001b[0;34m\u001b[0m\u001b[0;34m\u001b[0m\u001b[0m\n\u001b[1;32m   1690\u001b[0m \u001b[0;34m\u001b[0m\u001b[0m\n",
      "\u001b[0;32m/usr/local/lib/python3.8/dist-packages/pandas/core/arrays/categorical.py\u001b[0m in \u001b[0;36m__setitem__\u001b[0;34m(self, key, value)\u001b[0m\n\u001b[1;32m   2008\u001b[0m         \u001b[0;31m# something to np.nan\u001b[0m\u001b[0;34m\u001b[0m\u001b[0;34m\u001b[0m\u001b[0;34m\u001b[0m\u001b[0m\n\u001b[1;32m   2009\u001b[0m         \u001b[0;32mif\u001b[0m \u001b[0mlen\u001b[0m\u001b[0;34m(\u001b[0m\u001b[0mto_add\u001b[0m\u001b[0;34m)\u001b[0m \u001b[0;32mand\u001b[0m \u001b[0;32mnot\u001b[0m \u001b[0misna\u001b[0m\u001b[0;34m(\u001b[0m\u001b[0mto_add\u001b[0m\u001b[0;34m)\u001b[0m\u001b[0;34m.\u001b[0m\u001b[0mall\u001b[0m\u001b[0;34m(\u001b[0m\u001b[0;34m)\u001b[0m\u001b[0;34m:\u001b[0m\u001b[0;34m\u001b[0m\u001b[0;34m\u001b[0m\u001b[0m\n\u001b[0;32m-> 2010\u001b[0;31m             raise ValueError(\n\u001b[0m\u001b[1;32m   2011\u001b[0m                 \u001b[0;34m\"Cannot setitem on a Categorical with a new \"\u001b[0m\u001b[0;34m\u001b[0m\u001b[0;34m\u001b[0m\u001b[0m\n\u001b[1;32m   2012\u001b[0m                 \u001b[0;34m\"category, set the categories first\"\u001b[0m\u001b[0;34m\u001b[0m\u001b[0;34m\u001b[0m\u001b[0m\n",
      "\u001b[0;31mValueError\u001b[0m: Cannot setitem on a Categorical with a new category, set the categories first"
     ]
    }
   ],
   "source": [
    "\n",
    "for elem in lista_gen:\n",
    "    filtrod=jogos_Train.Genres.str.contains(f\"{elem}\")\n",
    "    jogos_Train.loc[filtrod,f\"{elem}\"]=filtrod\n",
    "\n"
   ]
  },
  {
   "cell_type": "code",
   "execution_count": 18,
   "metadata": {
    "collapsed": false
   },
   "outputs": [
   ],
   "source": [
    "for ele in lista_plat:\n",
    "    filtrodd=jogos_Train.Platform.str.contains(f\"{ele}\")\n",
    "    jogos_Train.loc[filtrodd,f\"{ele}\"]=filtrodd"
   ]
  },
  {
   "cell_type": "code",
   "execution_count": 19,
   "metadata": {
    "collapsed": false
   },
   "outputs": [
   ],
   "source": [
    "del jogos_Train[\"Players\"]\n",
    "del jogos_Train[\"Genres\"]\n",
    "del jogos_Train[\"Platform\"]"
   ]
  },
  {
   "cell_type": "code",
   "execution_count": 20,
   "metadata": {
    "collapsed": false
   },
   "outputs": [
    {
     "data": {
      "text/html": [
       "<div>\n",
       "<style scoped>\n",
       "    .dataframe tbody tr th:only-of-type {\n",
       "        vertical-align: middle;\n",
       "    }\n",
       "\n",
       "    .dataframe tbody tr th {\n",
       "        vertical-align: top;\n",
       "    }\n",
       "\n",
       "    .dataframe thead th {\n",
       "        text-align: right;\n",
       "    }\n",
       "</style>\n",
       "<table border=\"1\" class=\"dataframe\">\n",
       "  <thead>\n",
       "    <tr style=\"text-align: right;\">\n",
       "      <th></th>\n",
       "      <th>Name</th>\n",
       "      <th>Metacritic</th>\n",
       "      <th>Indie</th>\n",
       "      <th>Presence</th>\n",
       "      <th>OriginalCost</th>\n",
       "      <th>Achievements</th>\n",
       "      <th>Multiplayer</th>\n",
       "      <th>PVP</th>\n",
       "      <th>Coop</th>\n",
       "      <th>Online Coop</th>\n",
       "      <th>...</th>\n",
       "      <th>Nintendo 3DS</th>\n",
       "      <th>GameCube</th>\n",
       "      <th>SNES</th>\n",
       "      <th>PS Vita</th>\n",
       "      <th>Nintendo DS</th>\n",
       "      <th>PlayStation 2</th>\n",
       "      <th>Xbox</th>\n",
       "      <th>Wii</th>\n",
       "      <th>PlayStation</th>\n",
       "      <th>Dreamcast</th>\n",
       "    </tr>\n",
       "  </thead>\n",
       "  <tbody>\n",
       "    <tr>\n",
       "      <th>0</th>\n",
       "      <td>Counter-Strike: Global Offensive</td>\n",
       "      <td>830</td>\n",
       "      <td>nao</td>\n",
       "      <td>10095880</td>\n",
       "      <td>0.00</td>\n",
       "      <td>1790</td>\n",
       "      <td>True</td>\n",
       "      <td>True</td>\n",
       "      <td>True</td>\n",
       "      <td>True</td>\n",
       "      <td>...</td>\n",
       "      <td>False</td>\n",
       "      <td>False</td>\n",
       "      <td>False</td>\n",
       "      <td>False</td>\n",
       "      <td>False</td>\n",
       "      <td>False</td>\n",
       "      <td>True</td>\n",
       "      <td>False</td>\n",
       "      <td>True</td>\n",
       "      <td>False</td>\n",
       "    </tr>\n",
       "    <tr>\n",
       "      <th>1</th>\n",
       "      <td>Destiny 2</td>\n",
       "      <td>820</td>\n",
       "      <td>nao</td>\n",
       "      <td>10074250</td>\n",
       "      <td>0.00</td>\n",
       "      <td>610</td>\n",
       "      <td>True</td>\n",
       "      <td>False</td>\n",
       "      <td>True</td>\n",
       "      <td>True</td>\n",
       "      <td>...</td>\n",
       "      <td>False</td>\n",
       "      <td>False</td>\n",
       "      <td>False</td>\n",
       "      <td>False</td>\n",
       "      <td>False</td>\n",
       "      <td>False</td>\n",
       "      <td>True</td>\n",
       "      <td>False</td>\n",
       "      <td>True</td>\n",
       "      <td>False</td>\n",
       "    </tr>\n",
       "    <tr>\n",
       "      <th>2</th>\n",
       "      <td>The Elder Scrolls Online</td>\n",
       "      <td>710</td>\n",
       "      <td>nao</td>\n",
       "      <td>10007810</td>\n",
       "      <td>19.99</td>\n",
       "      <td>0</td>\n",
       "      <td>True</td>\n",
       "      <td>False</td>\n",
       "      <td>True</td>\n",
       "      <td>False</td>\n",
       "      <td>...</td>\n",
       "      <td>False</td>\n",
       "      <td>False</td>\n",
       "      <td>False</td>\n",
       "      <td>False</td>\n",
       "      <td>False</td>\n",
       "      <td>False</td>\n",
       "      <td>False</td>\n",
       "      <td>False</td>\n",
       "      <td>False</td>\n",
       "      <td>False</td>\n",
       "    </tr>\n",
       "    <tr>\n",
       "      <th>3</th>\n",
       "      <td>Sea of Thieves</td>\n",
       "      <td>680</td>\n",
       "      <td>nao</td>\n",
       "      <td>7774560</td>\n",
       "      <td>39.99</td>\n",
       "      <td>3080</td>\n",
       "      <td>True</td>\n",
       "      <td>True</td>\n",
       "      <td>True</td>\n",
       "      <td>True</td>\n",
       "      <td>...</td>\n",
       "      <td>False</td>\n",
       "      <td>False</td>\n",
       "      <td>False</td>\n",
       "      <td>False</td>\n",
       "      <td>False</td>\n",
       "      <td>False</td>\n",
       "      <td>True</td>\n",
       "      <td>False</td>\n",
       "      <td>False</td>\n",
       "      <td>False</td>\n",
       "    </tr>\n",
       "    <tr>\n",
       "      <th>4</th>\n",
       "      <td>Tom Clancy's Rainbow Six Siege</td>\n",
       "      <td>750</td>\n",
       "      <td>nao</td>\n",
       "      <td>10014240</td>\n",
       "      <td>19.99</td>\n",
       "      <td>820</td>\n",
       "      <td>True</td>\n",
       "      <td>False</td>\n",
       "      <td>True</td>\n",
       "      <td>True</td>\n",
       "      <td>...</td>\n",
       "      <td>False</td>\n",
       "      <td>False</td>\n",
       "      <td>False</td>\n",
       "      <td>False</td>\n",
       "      <td>False</td>\n",
       "      <td>False</td>\n",
       "      <td>True</td>\n",
       "      <td>False</td>\n",
       "      <td>True</td>\n",
       "      <td>False</td>\n",
       "    </tr>\n",
       "  </tbody>\n",
       "</table>\n",
       "<p>5 rows × 41 columns</p>\n",
       "</div>"
      ],
      "text/plain": [
       "                               Name  Metacritic Indie  Presence  OriginalCost  \\\n",
       "0  Counter-Strike: Global Offensive         830   nao  10095880          0.00   \n",
       "1                         Destiny 2         820   nao  10074250          0.00   \n",
       "2          The Elder Scrolls Online         710   nao  10007810         19.99   \n",
       "3                    Sea of Thieves         680   nao   7774560         39.99   \n",
       "4    Tom Clancy's Rainbow Six Siege         750   nao  10014240         19.99   \n",
       "\n",
       "   Achievements  Multiplayer    PVP  Coop  Online Coop  ...  Nintendo 3DS  \\\n",
       "0          1790         True   True  True         True  ...         False   \n",
       "1           610         True  False  True         True  ...         False   \n",
       "2             0         True  False  True        False  ...         False   \n",
       "3          3080         True   True  True         True  ...         False   \n",
       "4           820         True  False  True         True  ...         False   \n",
       "\n",
       "   GameCube   SNES  PS Vita  Nintendo DS  PlayStation 2   Xbox    Wii  \\\n",
       "0     False  False    False        False          False   True  False   \n",
       "1     False  False    False        False          False   True  False   \n",
       "2     False  False    False        False          False  False  False   \n",
       "3     False  False    False        False          False   True  False   \n",
       "4     False  False    False        False          False   True  False   \n",
       "\n",
       "   PlayStation  Dreamcast  \n",
       "0         True      False  \n",
       "1         True      False  \n",
       "2        False      False  \n",
       "3        False      False  \n",
       "4         True      False  \n",
       "\n",
       "[5 rows x 41 columns]"
      ]
     },
     "execution_count": 20,
     "metadata": {
     },
     "output_type": "execute_result"
    }
   ],
   "source": [
    "jogos_Train= jogos_Train.replace(np.nan, False, regex=True)\n",
    "jogos_Train.head(5)"
   ]
  },
  {
   "cell_type": "code",
   "execution_count": 21,
   "metadata": {
    "collapsed": false
   },
   "outputs": [
    {
     "data": {
      "text/html": [
       "<div>\n",
       "<style scoped>\n",
       "    .dataframe tbody tr th:only-of-type {\n",
       "        vertical-align: middle;\n",
       "    }\n",
       "\n",
       "    .dataframe tbody tr th {\n",
       "        vertical-align: top;\n",
       "    }\n",
       "\n",
       "    .dataframe thead th {\n",
       "        text-align: right;\n",
       "    }\n",
       "</style>\n",
       "<table border=\"1\" class=\"dataframe\">\n",
       "  <thead>\n",
       "    <tr style=\"text-align: right;\">\n",
       "      <th></th>\n",
       "      <th>Name</th>\n",
       "      <th>Metacritic</th>\n",
       "      <th>Indie</th>\n",
       "      <th>Presence</th>\n",
       "      <th>OriginalCost</th>\n",
       "      <th>Achievements</th>\n",
       "      <th>Multiplayer</th>\n",
       "      <th>PVP</th>\n",
       "      <th>Coop</th>\n",
       "      <th>Online Coop</th>\n",
       "      <th>...</th>\n",
       "      <th>Nintendo 3DS</th>\n",
       "      <th>GameCube</th>\n",
       "      <th>SNES</th>\n",
       "      <th>PS Vita</th>\n",
       "      <th>Nintendo DS</th>\n",
       "      <th>PlayStation 2</th>\n",
       "      <th>Xbox</th>\n",
       "      <th>Wii</th>\n",
       "      <th>PlayStation</th>\n",
       "      <th>Dreamcast</th>\n",
       "    </tr>\n",
       "  </thead>\n",
       "  <tbody>\n",
       "    <tr>\n",
       "      <th>0</th>\n",
       "      <td>Counter-Strike: Global Offensive</td>\n",
       "      <td>830</td>\n",
       "      <td>nao</td>\n",
       "      <td>10095880</td>\n",
       "      <td>0.00</td>\n",
       "      <td>1790</td>\n",
       "      <td>True</td>\n",
       "      <td>True</td>\n",
       "      <td>True</td>\n",
       "      <td>True</td>\n",
       "      <td>...</td>\n",
       "      <td>False</td>\n",
       "      <td>False</td>\n",
       "      <td>False</td>\n",
       "      <td>False</td>\n",
       "      <td>False</td>\n",
       "      <td>False</td>\n",
       "      <td>True</td>\n",
       "      <td>False</td>\n",
       "      <td>True</td>\n",
       "      <td>False</td>\n",
       "    </tr>\n",
       "    <tr>\n",
       "      <th>1</th>\n",
       "      <td>Destiny 2</td>\n",
       "      <td>820</td>\n",
       "      <td>nao</td>\n",
       "      <td>10074250</td>\n",
       "      <td>0.00</td>\n",
       "      <td>610</td>\n",
       "      <td>True</td>\n",
       "      <td>False</td>\n",
       "      <td>True</td>\n",
       "      <td>True</td>\n",
       "      <td>...</td>\n",
       "      <td>False</td>\n",
       "      <td>False</td>\n",
       "      <td>False</td>\n",
       "      <td>False</td>\n",
       "      <td>False</td>\n",
       "      <td>False</td>\n",
       "      <td>True</td>\n",
       "      <td>False</td>\n",
       "      <td>True</td>\n",
       "      <td>False</td>\n",
       "    </tr>\n",
       "    <tr>\n",
       "      <th>2</th>\n",
       "      <td>The Elder Scrolls Online</td>\n",
       "      <td>710</td>\n",
       "      <td>nao</td>\n",
       "      <td>10007810</td>\n",
       "      <td>19.99</td>\n",
       "      <td>0</td>\n",
       "      <td>True</td>\n",
       "      <td>False</td>\n",
       "      <td>True</td>\n",
       "      <td>False</td>\n",
       "      <td>...</td>\n",
       "      <td>False</td>\n",
       "      <td>False</td>\n",
       "      <td>False</td>\n",
       "      <td>False</td>\n",
       "      <td>False</td>\n",
       "      <td>False</td>\n",
       "      <td>False</td>\n",
       "      <td>False</td>\n",
       "      <td>False</td>\n",
       "      <td>False</td>\n",
       "    </tr>\n",
       "    <tr>\n",
       "      <th>3</th>\n",
       "      <td>Sea of Thieves</td>\n",
       "      <td>680</td>\n",
       "      <td>nao</td>\n",
       "      <td>7774560</td>\n",
       "      <td>39.99</td>\n",
       "      <td>3080</td>\n",
       "      <td>True</td>\n",
       "      <td>True</td>\n",
       "      <td>True</td>\n",
       "      <td>True</td>\n",
       "      <td>...</td>\n",
       "      <td>False</td>\n",
       "      <td>False</td>\n",
       "      <td>False</td>\n",
       "      <td>False</td>\n",
       "      <td>False</td>\n",
       "      <td>False</td>\n",
       "      <td>True</td>\n",
       "      <td>False</td>\n",
       "      <td>False</td>\n",
       "      <td>False</td>\n",
       "    </tr>\n",
       "    <tr>\n",
       "      <th>4</th>\n",
       "      <td>Tom Clancy's Rainbow Six Siege</td>\n",
       "      <td>750</td>\n",
       "      <td>nao</td>\n",
       "      <td>10014240</td>\n",
       "      <td>19.99</td>\n",
       "      <td>820</td>\n",
       "      <td>True</td>\n",
       "      <td>False</td>\n",
       "      <td>True</td>\n",
       "      <td>True</td>\n",
       "      <td>...</td>\n",
       "      <td>False</td>\n",
       "      <td>False</td>\n",
       "      <td>False</td>\n",
       "      <td>False</td>\n",
       "      <td>False</td>\n",
       "      <td>False</td>\n",
       "      <td>True</td>\n",
       "      <td>False</td>\n",
       "      <td>True</td>\n",
       "      <td>False</td>\n",
       "    </tr>\n",
       "  </tbody>\n",
       "</table>\n",
       "<p>5 rows × 41 columns</p>\n",
       "</div>"
      ],
      "text/plain": [
       "                               Name  Metacritic Indie  Presence  OriginalCost  \\\n",
       "0  Counter-Strike: Global Offensive         830   nao  10095880          0.00   \n",
       "1                         Destiny 2         820   nao  10074250          0.00   \n",
       "2          The Elder Scrolls Online         710   nao  10007810         19.99   \n",
       "3                    Sea of Thieves         680   nao   7774560         39.99   \n",
       "4    Tom Clancy's Rainbow Six Siege         750   nao  10014240         19.99   \n",
       "\n",
       "   Achievements  Multiplayer    PVP  Coop  Online Coop  ...  Nintendo 3DS  \\\n",
       "0          1790         True   True  True         True  ...         False   \n",
       "1           610         True  False  True         True  ...         False   \n",
       "2             0         True  False  True        False  ...         False   \n",
       "3          3080         True   True  True         True  ...         False   \n",
       "4           820         True  False  True         True  ...         False   \n",
       "\n",
       "   GameCube   SNES  PS Vita  Nintendo DS  PlayStation 2   Xbox    Wii  \\\n",
       "0     False  False    False        False          False   True  False   \n",
       "1     False  False    False        False          False   True  False   \n",
       "2     False  False    False        False          False  False  False   \n",
       "3     False  False    False        False          False   True  False   \n",
       "4     False  False    False        False          False   True  False   \n",
       "\n",
       "   PlayStation  Dreamcast  \n",
       "0         True      False  \n",
       "1         True      False  \n",
       "2        False      False  \n",
       "3        False      False  \n",
       "4         True      False  \n",
       "\n",
       "[5 rows x 41 columns]"
      ]
     },
     "execution_count": 21,
     "metadata": {
     },
     "output_type": "execute_result"
    }
   ],
   "source": [
    "jogos_Train.head(5)"
   ]
  },
  {
   "cell_type": "code",
   "execution_count": 35,
   "metadata": {
    "collapsed": false
   },
   "outputs": [
    {
     "data": {
      "text/plain": [
       "<BarContainer object of 1263 artists>"
      ]
     },
     "execution_count": 35,
     "metadata": {
     },
     "output_type": "execute_result"
    },
    {
     "data": {
      "image/png": "[encoded data removed]",
      "text/plain": [
       "<Figure size 432x288 with 1 Axes>"
      ]
     },
     "execution_count": 35,
     "metadata": {
      "image/png": {
       "height": 248,
       "width": 383
      },
      "needs_background": "light"
     },
     "output_type": "execute_result"
    }
   ],
   "source": [
    "plt.bar(jogos_Train['Metacritic'],jogos_Train['Action'])"
   ]
  },
  {
   "cell_type": "code",
   "execution_count": 0,
   "metadata": {
    "collapsed": false
   },
   "outputs": [
   ],
   "source": [
   ]
  }
 ],
 "metadata": {
  "kernelspec": {
   "display_name": "Python 3 (system-wide)",
   "language": "python",
   "metadata": {
    "cocalc": {
     "description": "Python 3 programming language",
     "priority": 100,
     "url": "https://www.python.org/"
    }
   },
   "name": "python3"
  },
  "language_info": {
   "codemirror_mode": {
    "name": "ipython",
    "version": 3
   },
   "file_extension": ".py",
   "mimetype": "text/x-python",
   "name": "python",
   "nbconvert_exporter": "python",
   "pygments_lexer": "ipython3",
   "version": "3.8.5"
  }
 },
 "nbformat": 4,
 "nbformat_minor": 4
}