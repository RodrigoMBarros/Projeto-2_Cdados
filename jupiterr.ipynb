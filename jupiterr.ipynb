{
 "cells": [
  {
   "cell_type": "code",
   "execution_count": 0,
   "metadata": {
    "collapsed": false
   },
   "outputs": [
   ],
   "source": [
   ]
  },
  {
   "cell_type": "markdown",
   "metadata": {
    "collapsed": false
   },
   "source": [
    "# Projeto 2 - Ciência dos Dados 2020.2"
   ]
  },
  {
   "cell_type": "markdown",
   "metadata": {
    "collapsed": false
   },
   "source": [
    "**Participantes**\n",
    "\n",
    "- Enrico Lopez Borges de Carvalho\n",
    "\n",
    "- Luana Mitsudo Coelho\n",
    "\n",
    "- Luiza Valezim Augusto Pinto\n",
    "\n",
    "- Rodrigo Carvalho Monteiro de Barros"
   ]
  },
  {
   "cell_type": "markdown",
   "metadata": {
    "collapsed": false
   },
   "source": [
    "## Introdução\n",
    "\n",
    "Em nosso trabalho do Projeto 2, decidimos tentar prever a nota de diversos jogos levando em consideração suas características principais (como seu preço, seu gênero, entre outros) e compará-las com as notas já existentes disponíveis no site *Metacritic*, o qual é muito conhecido por suas avaliações. Para isso, obtivemos nosso datasheet do site *Kaggle* em forma de Excel, e selecionamos somente àquelas colunas de características que acreditamos ter mais influêcia no resultado de sua nota final. Dessa forma, utilizamos o método **INSERIR O NOME DO MÉTODO QUE IREMOS UTILIZAR**, o qual (...)"
   ]
  },
  {
   "cell_type": "markdown",
   "metadata": {
    "collapsed": false
   },
   "source": [
    "## Desenvolvimento"
   ]
  },
  {
   "cell_type": "markdown",
   "metadata": {
    "collapsed": false
   },
   "source": [
    "**Carregando as bibliotecas**"
   ]
  },
  {
   "cell_type": "code",
   "execution_count": 1,
   "metadata": {
    "collapsed": false
   },
   "outputs": [
   ],
   "source": [
    "%matplotlib inline\n",
    "\n",
    "import pandas as pd\n",
    "import matplotlib.pyplot as plt\n",
    "import numpy as np\n",
    "import os\n",
    "\n",
    "from IPython.display import display"
   ]
  },
  {
   "cell_type": "markdown",
   "metadata": {
    "collapsed": false
   },
   "source": [
    "**Carregando a base de dados dos jogos**"
   ]
  },
  {
   "cell_type": "code",
   "execution_count": 0,
   "metadata": {
    "collapsed": false
   },
   "outputs": [
   ],
   "source": [
    "filename = 'jogos.xlsx'\n",
    "if filename in os.listdir():\n",
    "    print(f'Encontrei o arquivo {filename}, tudo certo para prosseguir com o projeto!')\n",
    "else:\n",
    "    print(f'Não encontrei o arquivo {filename} aqui no diretório {os.getcwd()} :(')"
   ]
  },
  {
   "cell_type": "markdown",
   "metadata": {
    "collapsed": false
   },
   "source": [
    "**Lendo os arquivos de treinamento e de teste**"
   ]
  },
  {
   "cell_type": "code",
   "execution_count": 0,
   "metadata": {
    "collapsed": false
   },
   "outputs": [
   ],
   "source": [
    "jogos_Train = pd.read_excel(filename)\n",
    "jogos_Train[\"Indie\"] =jogos_Train[\"Indie\"].astype('category')\n",
    "jogos_Train.Indie.cat.categories = [\"nao\",\"sim\"]\n",
    "\n",
    "jogos_Train.Languages=jogos_Train.Languages.astype(\"str\")\n",
    "jogos_Train.head(5)"
   ]
  },
  {
   "cell_type": "code",
   "execution_count": 0,
   "metadata": {
    "collapsed": false
   },
   "outputs": [
   ],
   "source": [
    "jogos_test=pd.read_excel(filename,sheet_name = 'test')\n",
    "#jogos_test.head(5)"
   ]
  },
  {
   "cell_type": "markdown",
   "metadata": {
    "collapsed": false
   },
   "source": [
    "### Gráficos"
   ]
  },
  {
   "cell_type": "markdown",
   "metadata": {
    "collapsed": false
   },
   "source": [
    "**Quantidade por faixa de preço**"
   ]
  },
  {
   "cell_type": "code",
   "execution_count": 0,
   "metadata": {
    "collapsed": false
   },
   "outputs": [
   ],
   "source": [
    "preco_inicial=jogos_Train.OriginalCost\n",
    "\n",
    "faixas = np.arange(0,65,5)\n",
    "\n",
    "plt.figure(figsize=(18, 5))\n",
    "\n",
    "plt.subplot(121)\n",
    "plt.hist(preco_inicial, bins=faixas,color='blue', edgecolor='white')\n",
    "plt.ylabel('quantidade')\n",
    "plt.xlabel('preços')\n",
    "plt.title('Quantidade de jogos por preço do jogo na data de lançamento ')"
   ]
  },
  {
   "cell_type": "markdown",
   "metadata": {
    "collapsed": false
   },
   "source": [
    "**Quantidade por classificação se é indie ou não**"
   ]
  },
  {
   "cell_type": "code",
   "execution_count": 0,
   "metadata": {
    "collapsed": false
   },
   "outputs": [
   ],
   "source": [
    "jogos_indie =jogos_Train.Indie\n",
    "\n",
    "plt.figure(figsize=(5, 4))\n",
    "\n",
    "plt.hist(jogos_indie,color='blue', edgecolor='white')\n",
    "plt.ylabel('quantidade')\n",
    "plt.xlabel('sim ou não')\n",
    "plt.title('Quantidade de jogos por classificação se é indie ou não')"
   ]
  },
  {
   "cell_type": "markdown",
   "metadata": {
    "collapsed": false
   },
   "source": [
    "**Quantidade por número de vezes mencionado em redes sociais (presença/relevância)**"
   ]
  },
  {
   "cell_type": "code",
   "execution_count": 0,
   "metadata": {
    "collapsed": false
   },
   "outputs": [
   ],
   "source": [
    "Presence_inicial=jogos_Train.Presence\n",
    "\n",
    "faixas_Presence = np.linspace(Presence_inicial.min(),Presence_inicial.max(),100)\n",
    "\n",
    "plt.figure(figsize=(18, 5))\n",
    "\n",
    "plt.subplot(121)\n",
    "plt.hist(Presence_inicial, bins=faixas_Presence, color='green', edgecolor='white')\n",
    "plt.ylabel('quantidade')\n",
    "plt.xlabel('presença')\n",
    "plt.title('Quantidade de jogos por número de vezes mencionados em redes sociais')"
   ]
  },
  {
   "cell_type": "markdown",
   "metadata": {
    "collapsed": false
   },
   "source": [
    "**Quantidade por nota do Metacritic**"
   ]
  },
  {
   "cell_type": "code",
   "execution_count": 0,
   "metadata": {
    "collapsed": false
   },
   "outputs": [
   ],
   "source": [
    "metacritic_inicial=jogos_Train.Metacritic\n",
    "\n",
    "faixas_metacritic = np.linspace(metacritic_inicial.min(),metacritic_inicial.max(),100)\n",
    "\n",
    "plt.figure(figsize=(18, 5))\n",
    "\n",
    "plt.subplot(121)\n",
    "plt.hist(metacritic_inicial, bins=faixas_metacritic,color='blue', edgecolor='white')\n",
    "plt.ylabel('quantidade')\n",
    "plt.xlabel('nota do metacritic')\n",
    "plt.title('Quantidade de jogos por nota do Metacritic')"
   ]
  },
  {
   "cell_type": "markdown",
   "metadata": {
    "collapsed": false
   },
   "source": [
    "**Nota do Metacritic por preço na data de lançamento**"
   ]
  },
  {
   "cell_type": "code",
   "execution_count": 0,
   "metadata": {
    "collapsed": false
   },
   "outputs": [
   ],
   "source": [
    "plt.scatter(jogos_Train.OriginalCost,jogos_Train.Metacritic, c='red', alpha=0.1)\n",
    "plt.title('Nota de Metacritic por preço')\n",
    "plt.xlabel('preço original (dólar americano)')\n",
    "plt.ylabel('nota do metacritic')"
   ]
  },
  {
   "cell_type": "code",
   "execution_count": 0,
   "metadata": {
    "collapsed": false
   },
   "outputs": [
   ],
   "source": [
    "jogos_Train.head()"
   ]
  },
  {
   "cell_type": "code",
   "execution_count": 0,
   "metadata": {
    "collapsed": false
   },
   "outputs": [
   ],
   "source": [
    "filtrom=jogos_Train.Players.str.contains(\"multiplayer\")\n",
    "filtropv=jogos_Train.Players.str.contains(\"pvp\")\n",
    "filtroco=jogos_Train.Players.str.contains(\"coop\")\n",
    "filtroc=jogos_Train.Players.str.contains(\"online coop\")\n",
    "filtrosi=jogos_Train.Players.str.contains(\"singleplayer\")\n",
    "\n",
    "jogos_Train.loc[filtrom,\"Multiplayer\"]=filtrom\n",
    "jogos_Train.loc[filtropv,\"PVP\"]=filtropv\n",
    "jogos_Train.loc[filtroco,\"Coop\"]=filtroco\n",
    "jogos_Train.loc[filtroc,\"Online Coop\"]=filtroc\n",
    "jogos_Train.loc[filtrosi,\"Singleplayer\"]=filtrosi\n",
    "\n",
    "# del jogos_Train[\"Players\"]"
   ]
  },
  {
   "cell_type": "code",
   "execution_count": 0,
   "metadata": {
    "collapsed": false
   },
   "outputs": [
   ],
   "source": [
    "jogos_Train.head(5)"
   ]
  },
  {
   "cell_type": "code",
   "execution_count": 0,
   "metadata": {
    "collapsed": false
   },
   "outputs": [
   ],
   "source": [
   ]
  },
  {
   "cell_type": "code",
   "execution_count": 0,
   "metadata": {
    "collapsed": false,
    "scrolled": true
   },
   "outputs": [
   ],
   "source": [
    "lista=[]\n",
    "\n",
    "for eli in jogos_Train.Languages:\n",
    "    \n",
    "    a=len(eli.split(\",\"))\n",
    "    lista.append(a)\n",
    "jogos_Train.insert(15,\"quant_l\",lista)\n",
    "        \n"
   ]
  },
  {
   "cell_type": "code",
   "execution_count": 0,
   "metadata": {
    "collapsed": false
   },
   "outputs": [
   ],
   "source": [
    "del jogos_Train[\"Languages\"]"
   ]
  },
  {
   "cell_type": "code",
   "execution_count": 0,
   "metadata": {
    "collapsed": false
   },
   "outputs": [
   ],
   "source": [
    "\n",
    "jogos_Train.head(5)"
   ]
  },
  {
   "cell_type": "code",
   "execution_count": 0,
   "metadata": {
    "collapsed": false
   },
   "outputs": [
   ],
   "source": [
   ]
  },
  {
   "cell_type": "code",
   "execution_count": 0,
   "metadata": {
    "collapsed": false
   },
   "outputs": [
   ],
   "source": [
   ]
  },
  {
   "cell_type": "code",
   "execution_count": 0,
   "metadata": {
    "collapsed": false
   },
   "outputs": [
   ],
   "source": [
   ]
  }
 ],
 "metadata": {
  "kernelspec": {
   "display_name": "Python 3 (system-wide)",
   "language": "python",
   "metadata": {
    "cocalc": {
     "description": "Python 3 programming language",
     "priority": 100,
     "url": "https://www.python.org/"
    }
   },
   "name": "python3"
  },
  "language_info": {
   "codemirror_mode": {
    "name": "ipython",
    "version": 3
   },
   "file_extension": ".py",
   "mimetype": "text/x-python",
   "name": "python",
   "nbconvert_exporter": "python",
   "pygments_lexer": "ipython3",
   "version": "3.8.5"
  }
 },
 "nbformat": 4,
 "nbformat_minor": 4
}