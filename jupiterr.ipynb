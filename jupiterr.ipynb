{
 "cells": [
  {
   "cell_type": "code",
   "execution_count": 1,
   "metadata": {},
   "outputs": [],
   "source": [
    "%matplotlib inline\n",
    "\n",
    "import pandas as pd\n",
    "\n",
    "import matplotlib.pyplot as plt\n",
    "import numpy as np\n",
    "import os\n",
    "\n",
    "from IPython.display import display"
   ]
  },
  {
   "cell_type": "code",
   "execution_count": 2,
   "metadata": {},
   "outputs": [
    {
     "name": "stdout",
     "output_type": "stream",
     "text": [
      "Encontrei o arquivo jogos.xlsx, tudo certo para prosseguir com a prova!\n"
     ]
    }
   ],
   "source": [
    "filename = 'jogos.xlsx'\n",
    "if filename in os.listdir():\n",
    "    print(f'Encontrei o arquivo {filename}, tudo certo para prosseguir com a prova!')\n",
    "else:\n",
    "    print(f'Não encontrei o arquivo {filename} aqui no diretório {os.getcwd()}, será que você não baixou o arquivo?')"
   ]
  },
  {
   "cell_type": "code",
   "execution_count": 3,
   "metadata": {},
   "outputs": [
    {
     "data": {
      "text/html": [
       "<div>\n",
       "<style scoped>\n",
       "    .dataframe tbody tr th:only-of-type {\n",
       "        vertical-align: middle;\n",
       "    }\n",
       "\n",
       "    .dataframe tbody tr th {\n",
       "        vertical-align: top;\n",
       "    }\n",
       "\n",
       "    .dataframe thead th {\n",
       "        text-align: right;\n",
       "    }\n",
       "</style>\n",
       "<table border=\"1\" class=\"dataframe\">\n",
       "  <thead>\n",
       "    <tr style=\"text-align: right;\">\n",
       "      <th></th>\n",
       "      <th>Name</th>\n",
       "      <th>Metacritic</th>\n",
       "      <th>Genres</th>\n",
       "      <th>Indie</th>\n",
       "      <th>Presence</th>\n",
       "      <th>Platform</th>\n",
       "      <th>OriginalCost</th>\n",
       "      <th>Players</th>\n",
       "      <th>Languages</th>\n",
       "      <th>Achievements</th>\n",
       "    </tr>\n",
       "  </thead>\n",
       "  <tbody>\n",
       "    <tr>\n",
       "      <th>0</th>\n",
       "      <td>Counter-Strike: Global Offensive</td>\n",
       "      <td>830</td>\n",
       "      <td>Action, Free to Play</td>\n",
       "      <td>nao</td>\n",
       "      <td>10095880</td>\n",
       "      <td>PC, Xbox 360, PlayStation 3</td>\n",
       "      <td>0.00</td>\n",
       "      <td>multiplayer, pvp, coop, online coop</td>\n",
       "      <td>English, Czech, Danish, Dutch, Finnish, French...</td>\n",
       "      <td>1790</td>\n",
       "    </tr>\n",
       "    <tr>\n",
       "      <th>1</th>\n",
       "      <td>Destiny 2</td>\n",
       "      <td>820</td>\n",
       "      <td>Action, Adventure, Free to Play</td>\n",
       "      <td>nao</td>\n",
       "      <td>10074250</td>\n",
       "      <td>PlayStation 5, Web, Xbox Series X, PC, Xbox On...</td>\n",
       "      <td>0.00</td>\n",
       "      <td>multiplayer, coop, online coop</td>\n",
       "      <td>English, French, Italian, German, Japanese, Ko...</td>\n",
       "      <td>610</td>\n",
       "    </tr>\n",
       "    <tr>\n",
       "      <th>2</th>\n",
       "      <td>The Elder Scrolls Online</td>\n",
       "      <td>710</td>\n",
       "      <td>Massively Multiplayer, RPG</td>\n",
       "      <td>nao</td>\n",
       "      <td>10007810</td>\n",
       "      <td>PC</td>\n",
       "      <td>19.99</td>\n",
       "      <td>singleplayer, multiplayer, coop</td>\n",
       "      <td>English, French, German, Russian</td>\n",
       "      <td>0</td>\n",
       "    </tr>\n",
       "    <tr>\n",
       "      <th>3</th>\n",
       "      <td>Sea of Thieves</td>\n",
       "      <td>680</td>\n",
       "      <td>Action, Adventure</td>\n",
       "      <td>nao</td>\n",
       "      <td>7774560</td>\n",
       "      <td>PC, Xbox One</td>\n",
       "      <td>39.99</td>\n",
       "      <td>multiplayer, pvp, coop, online coop</td>\n",
       "      <td>English, French, Italian, German, Russian</td>\n",
       "      <td>3080</td>\n",
       "    </tr>\n",
       "    <tr>\n",
       "      <th>4</th>\n",
       "      <td>Tom Clancy's Rainbow Six Siege</td>\n",
       "      <td>750</td>\n",
       "      <td>Action</td>\n",
       "      <td>nao</td>\n",
       "      <td>10014240</td>\n",
       "      <td>PlayStation 4, PC, Xbox One</td>\n",
       "      <td>19.99</td>\n",
       "      <td>singleplayer, multiplayer, coop, online coop</td>\n",
       "      <td>English, French, Italian, German, Czech, Dutch...</td>\n",
       "      <td>820</td>\n",
       "    </tr>\n",
       "  </tbody>\n",
       "</table>\n",
       "</div>"
      ],
      "text/plain": [
       "                               Name  Metacritic  \\\n",
       "0  Counter-Strike: Global Offensive         830   \n",
       "1                         Destiny 2         820   \n",
       "2          The Elder Scrolls Online         710   \n",
       "3                    Sea of Thieves         680   \n",
       "4    Tom Clancy's Rainbow Six Siege         750   \n",
       "\n",
       "                            Genres Indie  Presence  \\\n",
       "0             Action, Free to Play   nao  10095880   \n",
       "1  Action, Adventure, Free to Play   nao  10074250   \n",
       "2       Massively Multiplayer, RPG   nao  10007810   \n",
       "3                Action, Adventure   nao   7774560   \n",
       "4                           Action   nao  10014240   \n",
       "\n",
       "                                            Platform  OriginalCost  \\\n",
       "0                        PC, Xbox 360, PlayStation 3          0.00   \n",
       "1  PlayStation 5, Web, Xbox Series X, PC, Xbox On...          0.00   \n",
       "2                                                 PC         19.99   \n",
       "3                                       PC, Xbox One         39.99   \n",
       "4                        PlayStation 4, PC, Xbox One         19.99   \n",
       "\n",
       "                                        Players  \\\n",
       "0           multiplayer, pvp, coop, online coop   \n",
       "1                multiplayer, coop, online coop   \n",
       "2               singleplayer, multiplayer, coop   \n",
       "3           multiplayer, pvp, coop, online coop   \n",
       "4  singleplayer, multiplayer, coop, online coop   \n",
       "\n",
       "                                           Languages  Achievements  \n",
       "0  English, Czech, Danish, Dutch, Finnish, French...          1790  \n",
       "1  English, French, Italian, German, Japanese, Ko...           610  \n",
       "2                   English, French, German, Russian             0  \n",
       "3          English, French, Italian, German, Russian          3080  \n",
       "4  English, French, Italian, German, Czech, Dutch...           820  "
      ]
     },
     "execution_count": 3,
     "metadata": {},
     "output_type": "execute_result"
    }
   ],
   "source": [
    "\n",
    "jogos_Train = pd.read_excel(filename)\n",
    "jogos_Train[\"Indie\"] =jogos_Train[\"Indie\"].astype('category')\n",
    "jogos_Train.Indie.cat.categories = [\"nao\",\"sim\"]\n",
    "jogos_Train.head(5)"
   ]
  },
  {
   "cell_type": "code",
   "execution_count": 4,
   "metadata": {},
   "outputs": [
    {
     "data": {
      "text/html": [
       "<div>\n",
       "<style scoped>\n",
       "    .dataframe tbody tr th:only-of-type {\n",
       "        vertical-align: middle;\n",
       "    }\n",
       "\n",
       "    .dataframe tbody tr th {\n",
       "        vertical-align: top;\n",
       "    }\n",
       "\n",
       "    .dataframe thead th {\n",
       "        text-align: right;\n",
       "    }\n",
       "</style>\n",
       "<table border=\"1\" class=\"dataframe\">\n",
       "  <thead>\n",
       "    <tr style=\"text-align: right;\">\n",
       "      <th></th>\n",
       "      <th>Name</th>\n",
       "      <th>Metacritic</th>\n",
       "      <th>Genres</th>\n",
       "      <th>Indie</th>\n",
       "      <th>Presence</th>\n",
       "      <th>Platform</th>\n",
       "      <th>OriginalCost</th>\n",
       "      <th>Players</th>\n",
       "      <th>Languages</th>\n",
       "      <th>Achievements</th>\n",
       "    </tr>\n",
       "  </thead>\n",
       "  <tbody>\n",
       "    <tr>\n",
       "      <th>0</th>\n",
       "      <td>PixelJunk Shooter</td>\n",
       "      <td>730</td>\n",
       "      <td>Action</td>\n",
       "      <td>10</td>\n",
       "      <td>575520</td>\n",
       "      <td>Linux, PC, macOS, PlayStation 3</td>\n",
       "      <td>8.99</td>\n",
       "      <td>singleplayer, coop</td>\n",
       "      <td>English, French, Italian, German, Japanese</td>\n",
       "      <td>280</td>\n",
       "    </tr>\n",
       "    <tr>\n",
       "      <th>1</th>\n",
       "      <td>Devil May Cry 4</td>\n",
       "      <td>780</td>\n",
       "      <td>Action, Adventure</td>\n",
       "      <td>0</td>\n",
       "      <td>10011250</td>\n",
       "      <td>PC, PlayStation 4, PlayStation 3, Xbox One, Xb...</td>\n",
       "      <td>19.99</td>\n",
       "      <td>singleplayer</td>\n",
       "      <td>English</td>\n",
       "      <td>460</td>\n",
       "    </tr>\n",
       "    <tr>\n",
       "      <th>2</th>\n",
       "      <td>Anomaly: Warzone Earth</td>\n",
       "      <td>800</td>\n",
       "      <td>Action, Indie, Strategy</td>\n",
       "      <td>10</td>\n",
       "      <td>317940</td>\n",
       "      <td>PC, macOS, iOS, Android, Linux, Xbox 360, Play...</td>\n",
       "      <td>9.99</td>\n",
       "      <td>singleplayer</td>\n",
       "      <td>English, French, German, Polish, Russian, Italian</td>\n",
       "      <td>680</td>\n",
       "    </tr>\n",
       "    <tr>\n",
       "      <th>3</th>\n",
       "      <td>Splasher</td>\n",
       "      <td>790</td>\n",
       "      <td>Action, Indie</td>\n",
       "      <td>10</td>\n",
       "      <td>535170</td>\n",
       "      <td>Linux, PC, macOS, PlayStation 4, Xbox One, Nin...</td>\n",
       "      <td>14.99</td>\n",
       "      <td>singleplayer</td>\n",
       "      <td>English, French, Italian, German, Russian, Jap...</td>\n",
       "      <td>1250</td>\n",
       "    </tr>\n",
       "    <tr>\n",
       "      <th>4</th>\n",
       "      <td>Hack 'n' Slash</td>\n",
       "      <td>730</td>\n",
       "      <td>Adventure, Casual, Indie</td>\n",
       "      <td>10</td>\n",
       "      <td>3770290</td>\n",
       "      <td>Linux, macOS, PC</td>\n",
       "      <td>13.37</td>\n",
       "      <td>singleplayer</td>\n",
       "      <td>English</td>\n",
       "      <td>0</td>\n",
       "    </tr>\n",
       "  </tbody>\n",
       "</table>\n",
       "</div>"
      ],
      "text/plain": [
       "                     Name  Metacritic                    Genres  Indie  \\\n",
       "0       PixelJunk Shooter         730                    Action     10   \n",
       "1         Devil May Cry 4         780         Action, Adventure      0   \n",
       "2  Anomaly: Warzone Earth         800   Action, Indie, Strategy     10   \n",
       "3                Splasher         790             Action, Indie     10   \n",
       "4          Hack 'n' Slash         730  Adventure, Casual, Indie     10   \n",
       "\n",
       "   Presence                                           Platform  OriginalCost  \\\n",
       "0    575520                    Linux, PC, macOS, PlayStation 3          8.99   \n",
       "1  10011250  PC, PlayStation 4, PlayStation 3, Xbox One, Xb...         19.99   \n",
       "2    317940  PC, macOS, iOS, Android, Linux, Xbox 360, Play...          9.99   \n",
       "3    535170  Linux, PC, macOS, PlayStation 4, Xbox One, Nin...         14.99   \n",
       "4   3770290                                   Linux, macOS, PC         13.37   \n",
       "\n",
       "              Players                                          Languages  \\\n",
       "0  singleplayer, coop         English, French, Italian, German, Japanese   \n",
       "1        singleplayer                                            English   \n",
       "2        singleplayer  English, French, German, Polish, Russian, Italian   \n",
       "3        singleplayer  English, French, Italian, German, Russian, Jap...   \n",
       "4        singleplayer                                            English   \n",
       "\n",
       "   Achievements  \n",
       "0           280  \n",
       "1           460  \n",
       "2           680  \n",
       "3          1250  \n",
       "4             0  "
      ]
     },
     "execution_count": 4,
     "metadata": {},
     "output_type": "execute_result"
    }
   ],
   "source": [
    "jogos_test=pd.read_excel(filename,sheet_name = 'test')\n",
    "jogos_test.head(5)"
   ]
  },
  {
   "cell_type": "code",
   "execution_count": 22,
   "metadata": {},
   "outputs": [
    {
     "data": {
      "text/plain": [
       "Text(0.5, 1.0, 'preco de lancamento ')"
      ]
     },
     "execution_count": 22,
     "metadata": {},
     "output_type": "execute_result"
    },
    {
     "data": {
      "image/png": "[encoded data removed]",
      "text/plain": [
       "<Figure size 1296x360 with 1 Axes>"
      ]
     },
     "metadata": {
      "needs_background": "light"
     },
     "output_type": "display_data"
    }
   ],
   "source": [
    "preco_inicial=jogos_Train.OriginalCost\n",
    "\n",
    "\n",
    "faixas = np.arange(0,65,5)\n",
    "\n",
    "plt.figure(figsize=(18, 5))\n",
    "\n",
    "plt.subplot(121)\n",
    "plt.hist(preco_inicial, bins=faixas,color='blue', edgecolor='white')\n",
    "plt.ylabel('densidade')\n",
    "plt.xlabel('precos')\n",
    "plt.title('preco de lancamento ')\n"
   ]
  },
  {
   "cell_type": "code",
   "execution_count": 6,
   "metadata": {},
   "outputs": [
    {
     "data": {
      "text/plain": [
       "Text(0.5, 1.0, 'indie ou nao')"
      ]
     },
     "execution_count": 6,
     "metadata": {},
     "output_type": "execute_result"
    },
    {
     "data": {
      "image/png": "[encoded data removed]",
      "text/plain": [
       "<Figure size 360x288 with 1 Axes>"
      ]
     },
     "metadata": {
      "needs_background": "light"
     },
     "output_type": "display_data"
    }
   ],
   "source": [
    "jogos_indie =jogos_Train.Indie\n",
    "\n",
    "\n",
    "\n",
    "\n",
    "plt.figure(figsize=(5, 4))\n",
    "\n",
    "plt.subplot(121)\n",
    "plt.hist(jogos_indie,color='blue', edgecolor='white')\n",
    "plt.ylabel('quantidade')\n",
    "plt.xlabel('sim ou n')\n",
    "plt.title('indie ou nao')"
   ]
  },
  {
   "cell_type": "code",
   "execution_count": 7,
   "metadata": {},
   "outputs": [],
   "source": [
    "genres_textao = \" \".join(jogos_Train.Genres)\n",
    "platform_textao = \" \".join(jogos_Train.Platform)\n",
    "player_textao = \" \".join(jogos_Train.Players)\n",
    "linguas_textao = \" \".join(jogos_Train.Languages)"
   ]
  },
  {
   "cell_type": "code",
   "execution_count": 8,
   "metadata": {},
   "outputs": [],
   "source": [
    "import re \n",
    "def cleanup(text):\n",
    "    punctuation = '[\\n!-.,:;?|/\"]'\n",
    "    pattern = re.compile(punctuation)\n",
    "    text_subbed = re.sub(pattern, '', text)\n",
    "    text_subbed1 = re.sub(r'to','',text_subbed)\n",
    "    text_subbed2 = re.sub(r'play','',text_subbed1)\n",
    "    text_subbed3 = re.sub(r'access','',text_subbed2)\n",
    "    text_subbed4 = re.sub('   ', ' ',text_subbed3)\n",
    "    text_subbed5 = re.sub('  ', ' ',text_subbed4)\n",
    "    return text_subbed5\n",
    "\n",
    "def cleanup2(text):\n",
    "    punctuation = '[\\n!-.,:;?|/\"]'\n",
    "    pattern = re.compile(punctuation)\n",
    "    text_subbed = re.sub(pattern, '',text)\n",
    "    text_subbed1 = re.sub(r'playstation','',text_subbed)\n",
    "    text_subbed2 = re.sub(r'xbox','',text_subbed1)\n",
    "    text_subbed3 = re.sub(r'nintendo','',text_subbed2)\n",
    "    text_subbed4 = re.sub(r'series','',text_subbed3)\n",
    "    text_subbed5 = re.sub(r'game','',text_subbed4)\n",
    "    text_subbed6 = re.sub(r'saturn','',text_subbed5)\n",
    "    text_subbed7 = re.sub('   ', ' ',text_subbed6)\n",
    "    text_subbed8 = re.sub('  ', ' ',text_subbed7)\n",
    "    \n",
    "    return text_subbed8\n",
    "\n",
    "train_limpo_gender = cleanup(genres_textao.lower())\n",
    "train_limpo_platform = cleanup2(platform_textao.lower())\n",
    "train_limpo_player = cleanup(player_textao.lower())\n",
    "train_limpo_linguas = cleanup(linguas_textao.lower())"
   ]
  },
  {
   "cell_type": "code",
   "execution_count": 9,
   "metadata": {},
   "outputs": [],
   "source": [
    "train_limpo_todas_gender = train_limpo_gender.split()\n",
    "train_limpo_todas_platform = train_limpo_platform.split()\n",
    "train_limpo_todas_player = train_limpo_player.split()\n",
    "train_limpo_todas_linguas = train_limpo_linguas.split()"
   ]
  },
  {
   "cell_type": "code",
   "execution_count": 50,
   "metadata": {},
   "outputs": [],
   "source": [
    "serie_treinamento_gender = pd.Series(train_limpo_todas_gender)\n",
    "serie_treinamento_platform = pd.Series(train_limpo_todas_platform)\n",
    "serie_treinamento_player = pd.Series(train_limpo_todas_player)\n",
    "serie_treinamento_linguas = pd.Series(train_limpo_todas_linguas)\n",
    "def cria_grafico(serie):\n",
    "    dicio={}\n",
    "    lista=[]\n",
    "    lista2=[]\n",
    "    \n",
    "    for el in serie:\n",
    "        if el not in dicio:\n",
    "            dicio[el]=1\n",
    "        else:\n",
    "            dicio[el]+=1\n",
    "    for keys,values in dicio.items():\n",
    "        lista.append(keys)\n",
    "        lista2.append(values)\n",
    "        \n",
    "    return lista,lista2\n",
    "        "
   ]
  },
  {
   "cell_type": "code",
   "execution_count": 65,
   "metadata": {},
   "outputs": [],
   "source": [
    "serie_treinamento_gender_lis=cria_grafico(serie_treinamento_gender)\n",
    "serie_treinamento_platform_lis=cria_grafico(serie_treinamento_platform)"
   ]
  },
  {
   "cell_type": "code",
   "execution_count": 66,
   "metadata": {
    "scrolled": true
   },
   "outputs": [
    {
     "data": {
      "text/plain": [
       "Text(0.5, 1.0, 'preco de lancamento ')"
      ]
     },
     "execution_count": 66,
     "metadata": {},
     "output_type": "execute_result"
    },
    {
     "data": {
      "image/png": "[encoded data removed]",
      "text/plain": [
       "<Figure size 1440x360 with 1 Axes>"
      ]
     },
     "metadata": {
      "needs_background": "light"
     },
     "output_type": "display_data"
    }
   ],
   "source": [
    "\n",
    "\n",
    "plt.figure(figsize=(20, 5))\n",
    "\n",
    "\n",
    "plt.bar(serie_treinamento_gender_lis[0],serie_treinamento_gender_lis[1],color='blue', edgecolor='white')\n",
    "plt.ylabel('densidade')\n",
    "plt.xlabel('tipos')\n",
    "plt.title('preco de lancamento ')"
   ]
  },
  {
   "cell_type": "code",
   "execution_count": 71,
   "metadata": {},
   "outputs": [
    {
     "data": {
      "text/plain": [
       "Text(0.5, 1.0, 'preco de lancamento ')"
      ]
     },
     "execution_count": 71,
     "metadata": {},
     "output_type": "execute_result"
    },
    {
     "data": {
      "image/png": "[encoded data removed]",
      "text/plain": [
       "<Figure size 1800x288 with 1 Axes>"
      ]
     },
     "metadata": {
      "needs_background": "light"
     },
     "output_type": "display_data"
    }
   ],
   "source": [
    "plt.figure(figsize=(25, 4))\n",
    "\n",
    "plt.bar(serie_treinamento_platform_lis[0],serie_treinamento_platform_lis[1] ,color='orange', edgecolor='white')\n",
    "plt.ylabel('densidade')\n",
    "plt.xlabel('tipos')\n",
    "plt.title('preco de lancamento ')"
   ]
  },
  {
   "cell_type": "code",
   "execution_count": 68,
   "metadata": {},
   "outputs": [
    {
     "data": {
      "text/plain": [
       "Text(0.5, 1.0, 'Achievements')"
      ]
     },
     "execution_count": 68,
     "metadata": {},
     "output_type": "execute_result"
    },
    {
     "data": {
      "image/png": "[encoded data removed]",
      "text/plain": [
       "<Figure size 1296x360 with 1 Axes>"
      ]
     },
     "metadata": {
      "needs_background": "light"
     },
     "output_type": "display_data"
    }
   ],
   "source": [
    "Achievements_inicial=jogos_Train.Achievements\n",
    "\n",
    "\n",
    "\n",
    "plt.figure(figsize=(18, 5))\n",
    "\n",
    "\n",
    "\n",
    "\n",
    "plt.hist(Achievements_inicial, 100, color='red', edgecolor='white')\n",
    "plt.ylabel('densidade')\n",
    "plt.xlabel('achievements')\n",
    "plt.title('Achievements')"
   ]
  },
  {
   "cell_type": "code",
   "execution_count": 14,
   "metadata": {},
   "outputs": [
    {
     "data": {
      "text/plain": [
       "Text(0.5, 1.0, 'Presence')"
      ]
     },
     "execution_count": 14,
     "metadata": {},
     "output_type": "execute_result"
    },
    {
     "data": {
      "image/png": "[encoded data removed]",
      "text/plain": [
       "<Figure size 1296x360 with 1 Axes>"
      ]
     },
     "metadata": {
      "needs_background": "light"
     },
     "output_type": "display_data"
    }
   ],
   "source": [
    "Presence_inicial=jogos_Train.Presence\n",
    "\n",
    "\n",
    "\n",
    "faixas_Presence = np.linspace(Presence_inicial.min(),Presence_inicial.max(),100)\n",
    "\n",
    "\n",
    "\n",
    "plt.figure(figsize=(18, 5))\n",
    "\n",
    "\n",
    "\n",
    "plt.subplot(121)\n",
    "plt.hist(Presence_inicial, bins=faixas_Presence, color='green', edgecolor='white')\n",
    "plt.ylabel('densidade')\n",
    "plt.xlabel('presence')\n",
    "plt.title('Presence')\n",
    "\n",
    "\n",
    "\n"
   ]
  },
  {
   "cell_type": "code",
   "execution_count": 15,
   "metadata": {},
   "outputs": [
    {
     "data": {
      "text/plain": [
       "Text(0.5, 1.0, 'players ')"
      ]
     },
     "execution_count": 15,
     "metadata": {},
     "output_type": "execute_result"
    },
    {
     "data": {
      "image/png": "[encoded data removed]",
      "text/plain": [
       "<Figure size 1440x360 with 1 Axes>"
      ]
     },
     "metadata": {
      "needs_background": "light"
     },
     "output_type": "display_data"
    }
   ],
   "source": [
    "plt.figure(figsize=(20, 5))\n",
    "\n",
    "\n",
    "plt.hist(serie_treinamento_player,5 ,color='yellow', edgecolor='white')\n",
    "plt.ylabel('densidade')\n",
    "plt.xlabel('tipos')\n",
    "plt.title('players ')"
   ]
  },
  {
   "cell_type": "code",
   "execution_count": 16,
   "metadata": {
    "scrolled": true
   },
   "outputs": [
    {
     "data": {
      "text/plain": [
       "Text(0.5, 1.0, 'linguas ')"
      ]
     },
     "execution_count": 16,
     "metadata": {},
     "output_type": "execute_result"
    },
    {
     "data": {
      "image/png": "[encoded data removed]",
      "text/plain": [
       "<Figure size 1440x360 with 1 Axes>"
      ]
     },
     "metadata": {
      "needs_background": "light"
     },
     "output_type": "display_data"
    }
   ],
   "source": [
    "plt.figure(figsize=(20, 5))\n",
    "\n",
    "\n",
    "plt.hist(serie_treinamento_linguas, 24 ,color='gray', edgecolor='white')\n",
    "plt.ylabel('densidade')\n",
    "plt.xlabel('tipos')\n",
    "plt.title('linguas ')"
   ]
  },
  {
   "cell_type": "code",
   "execution_count": 18,
   "metadata": {},
   "outputs": [
    {
     "data": {
      "text/plain": [
       "Text(0, 0.5, 'metacritic')"
      ]
     },
     "execution_count": 18,
     "metadata": {},
     "output_type": "execute_result"
    },
    {
     "data": {
      "image/png": "[encoded data removed]",
      "text/plain": [
       "<Figure size 432x288 with 1 Axes>"
      ]
     },
     "metadata": {
      "needs_background": "light"
     },
     "output_type": "display_data"
    }
   ],
   "source": [
    "plt.subplot(221)\n",
    "plt.scatter(jogos_Train.OriginalCost,jogos_Train.Metacritic, c='red', alpha=0.1)\n",
    "plt.title('metacritic por preço')\n",
    "plt.xlabel('original cost dollar')\n",
    "plt.ylabel('metacritic')"
   ]
  },
  {
   "cell_type": "code",
   "execution_count": 40,
   "metadata": {},
   "outputs": [
    {
     "data": {
      "text/plain": [
       "<matplotlib.collections.PathCollection at 0x1e559c85548>"
      ]
     },
     "execution_count": 40,
     "metadata": {},
     "output_type": "execute_result"
    },
    {
     "data": {
      "image/png": "[encoded data removed]",
      "text/plain": [
       "<Figure size 432x288 with 1 Axes>"
      ]
     },
     "metadata": {
      "needs_background": "light"
     },
     "output_type": "display_data"
    }
   ],
   "source": [
    "plt.subplot(221)\n",
    "plt.scatter(jogos_Train.Metacritic, jogos_Train.Indie, c='red', alpha=0.1)"
   ]
  },
  {
   "cell_type": "code",
   "execution_count": 41,
   "metadata": {},
   "outputs": [
    {
     "data": {
      "text/plain": [
       "Text(0.5, 1.0, 'metacritic ')"
      ]
     },
     "execution_count": 41,
     "metadata": {},
     "output_type": "execute_result"
    },
    {
     "data": {
      "image/png": "[encoded data removed]",
      "text/plain": [
       "<Figure size 1296x360 with 1 Axes>"
      ]
     },
     "metadata": {
      "needs_background": "light"
     },
     "output_type": "display_data"
    }
   ],
   "source": [
    "metacritic_inicial=jogos_Train.Metacritic\n",
    "\n",
    "faixas_metacritic = np.linspace(metacritic_inicial.min(),metacritic_inicial.max(),100)\n",
    "\n",
    "plt.figure(figsize=(18, 5))\n",
    "\n",
    "plt.subplot(121)\n",
    "plt.hist(metacritic_inicial, bins=faixas_metacritic,color='blue', edgecolor='white')\n",
    "plt.ylabel('densidade')\n",
    "plt.xlabel('metacritic')\n",
    "plt.title('metacritic ')\n"
   ]
  },
  {
   "cell_type": "code",
   "execution_count": null,
   "metadata": {},
   "outputs": [],
   "source": []
  }
 ],
 "metadata": {
  "kernelspec": {
   "display_name": "Python 3",
   "language": "python",
   "name": "python3"
  },
  "language_info": {
   "codemirror_mode": {
    "name": "ipython",
    "version": 3
   },
   "file_extension": ".py",
   "mimetype": "text/x-python",
   "name": "python",
   "nbconvert_exporter": "python",
   "pygments_lexer": "ipython3",
   "version": "3.7.6"
  }
 },
 "nbformat": 4,
 "nbformat_minor": 4
}
